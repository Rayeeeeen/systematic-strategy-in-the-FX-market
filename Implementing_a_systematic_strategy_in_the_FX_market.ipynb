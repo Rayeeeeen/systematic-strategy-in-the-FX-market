{
  "cells": [
    {
      "cell_type": "markdown",
      "metadata": {
        "id": "view-in-github",
        "colab_type": "text"
      },
      "source": [
        "<a href=\"https://colab.research.google.com/github/Rayeeeeen/systematic-strategy-in-the-FX-market/blob/main/Implementing_a_systematic_strategy_in_the_FX_market.ipynb\" target=\"_parent\"><img src=\"https://colab.research.google.com/assets/colab-badge.svg\" alt=\"Open In Colab\"/></a>"
      ]
    },
    {
      "cell_type": "markdown",
      "metadata": {
        "id": "zvNzLMHz4yK-"
      },
      "source": [
        "# Forex predictions using Machine Learning\n",
        "# Loading and preparing data"
      ]
    },
    {
      "cell_type": "code",
      "execution_count": null,
      "metadata": {
        "colab": {
          "base_uri": "https://localhost:8080/"
        },
        "id": "cubOJUU76MS4",
        "outputId": "2f569ab8-4073-44eb-8c98-5ab5c32f3c39"
      },
      "outputs": [
        {
          "output_type": "stream",
          "name": "stdout",
          "text": [
            "Drive already mounted at /content/drive; to attempt to forcibly remount, call drive.mount(\"/content/drive\", force_remount=True).\n"
          ]
        }
      ],
      "source": [
        "from google.colab import drive\n",
        "drive.mount('/content/drive')"
      ]
    },
    {
      "cell_type": "code",
      "execution_count": null,
      "metadata": {
        "colab": {
          "base_uri": "https://localhost:8080/",
          "height": 206
        },
        "id": "IsRxK5fh4yLg",
        "scrolled": true,
        "outputId": "09d3aade-1004-4110-eb0e-a256475f6534"
      },
      "outputs": [
        {
          "output_type": "execute_result",
          "data": {
            "text/plain": [
              "      Local time     Open     High      Low    Close    Volume\n",
              "25866 2023-10-19  1.05364  1.05395  1.05342  1.05350  0.006221\n",
              "25867 2023-10-19  1.05350  1.05369  1.05324  1.05338  0.004688\n",
              "25868 2023-10-19  1.05336  1.05350  1.05305  1.05335  0.004742\n",
              "25869 2023-10-19  1.05335  1.05349  1.05301  1.05331  0.005284\n",
              "25870 2023-10-19  1.05330  1.05421  1.05282  1.05401  0.010679"
            ],
            "text/html": [
              "\n",
              "  <div id=\"df-804ae425-aec1-47f4-83b1-86cb59f3f99f\" class=\"colab-df-container\">\n",
              "    <div>\n",
              "<style scoped>\n",
              "    .dataframe tbody tr th:only-of-type {\n",
              "        vertical-align: middle;\n",
              "    }\n",
              "\n",
              "    .dataframe tbody tr th {\n",
              "        vertical-align: top;\n",
              "    }\n",
              "\n",
              "    .dataframe thead th {\n",
              "        text-align: right;\n",
              "    }\n",
              "</style>\n",
              "<table border=\"1\" class=\"dataframe\">\n",
              "  <thead>\n",
              "    <tr style=\"text-align: right;\">\n",
              "      <th></th>\n",
              "      <th>Local time</th>\n",
              "      <th>Open</th>\n",
              "      <th>High</th>\n",
              "      <th>Low</th>\n",
              "      <th>Close</th>\n",
              "      <th>Volume</th>\n",
              "    </tr>\n",
              "  </thead>\n",
              "  <tbody>\n",
              "    <tr>\n",
              "      <th>25866</th>\n",
              "      <td>2023-10-19</td>\n",
              "      <td>1.05364</td>\n",
              "      <td>1.05395</td>\n",
              "      <td>1.05342</td>\n",
              "      <td>1.05350</td>\n",
              "      <td>0.006221</td>\n",
              "    </tr>\n",
              "    <tr>\n",
              "      <th>25867</th>\n",
              "      <td>2023-10-19</td>\n",
              "      <td>1.05350</td>\n",
              "      <td>1.05369</td>\n",
              "      <td>1.05324</td>\n",
              "      <td>1.05338</td>\n",
              "      <td>0.004688</td>\n",
              "    </tr>\n",
              "    <tr>\n",
              "      <th>25868</th>\n",
              "      <td>2023-10-19</td>\n",
              "      <td>1.05336</td>\n",
              "      <td>1.05350</td>\n",
              "      <td>1.05305</td>\n",
              "      <td>1.05335</td>\n",
              "      <td>0.004742</td>\n",
              "    </tr>\n",
              "    <tr>\n",
              "      <th>25869</th>\n",
              "      <td>2023-10-19</td>\n",
              "      <td>1.05335</td>\n",
              "      <td>1.05349</td>\n",
              "      <td>1.05301</td>\n",
              "      <td>1.05331</td>\n",
              "      <td>0.005284</td>\n",
              "    </tr>\n",
              "    <tr>\n",
              "      <th>25870</th>\n",
              "      <td>2023-10-19</td>\n",
              "      <td>1.05330</td>\n",
              "      <td>1.05421</td>\n",
              "      <td>1.05282</td>\n",
              "      <td>1.05401</td>\n",
              "      <td>0.010679</td>\n",
              "    </tr>\n",
              "  </tbody>\n",
              "</table>\n",
              "</div>\n",
              "    <div class=\"colab-df-buttons\">\n",
              "\n",
              "  <div class=\"colab-df-container\">\n",
              "    <button class=\"colab-df-convert\" onclick=\"convertToInteractive('df-804ae425-aec1-47f4-83b1-86cb59f3f99f')\"\n",
              "            title=\"Convert this dataframe to an interactive table.\"\n",
              "            style=\"display:none;\">\n",
              "\n",
              "  <svg xmlns=\"http://www.w3.org/2000/svg\" height=\"24px\" viewBox=\"0 -960 960 960\">\n",
              "    <path d=\"M120-120v-720h720v720H120Zm60-500h600v-160H180v160Zm220 220h160v-160H400v160Zm0 220h160v-160H400v160ZM180-400h160v-160H180v160Zm440 0h160v-160H620v160ZM180-180h160v-160H180v160Zm440 0h160v-160H620v160Z\"/>\n",
              "  </svg>\n",
              "    </button>\n",
              "\n",
              "  <style>\n",
              "    .colab-df-container {\n",
              "      display:flex;\n",
              "      gap: 12px;\n",
              "    }\n",
              "\n",
              "    .colab-df-convert {\n",
              "      background-color: #E8F0FE;\n",
              "      border: none;\n",
              "      border-radius: 50%;\n",
              "      cursor: pointer;\n",
              "      display: none;\n",
              "      fill: #1967D2;\n",
              "      height: 32px;\n",
              "      padding: 0 0 0 0;\n",
              "      width: 32px;\n",
              "    }\n",
              "\n",
              "    .colab-df-convert:hover {\n",
              "      background-color: #E2EBFA;\n",
              "      box-shadow: 0px 1px 2px rgba(60, 64, 67, 0.3), 0px 1px 3px 1px rgba(60, 64, 67, 0.15);\n",
              "      fill: #174EA6;\n",
              "    }\n",
              "\n",
              "    .colab-df-buttons div {\n",
              "      margin-bottom: 4px;\n",
              "    }\n",
              "\n",
              "    [theme=dark] .colab-df-convert {\n",
              "      background-color: #3B4455;\n",
              "      fill: #D2E3FC;\n",
              "    }\n",
              "\n",
              "    [theme=dark] .colab-df-convert:hover {\n",
              "      background-color: #434B5C;\n",
              "      box-shadow: 0px 1px 3px 1px rgba(0, 0, 0, 0.15);\n",
              "      filter: drop-shadow(0px 1px 2px rgba(0, 0, 0, 0.3));\n",
              "      fill: #FFFFFF;\n",
              "    }\n",
              "  </style>\n",
              "\n",
              "    <script>\n",
              "      const buttonEl =\n",
              "        document.querySelector('#df-804ae425-aec1-47f4-83b1-86cb59f3f99f button.colab-df-convert');\n",
              "      buttonEl.style.display =\n",
              "        google.colab.kernel.accessAllowed ? 'block' : 'none';\n",
              "\n",
              "      async function convertToInteractive(key) {\n",
              "        const element = document.querySelector('#df-804ae425-aec1-47f4-83b1-86cb59f3f99f');\n",
              "        const dataTable =\n",
              "          await google.colab.kernel.invokeFunction('convertToInteractive',\n",
              "                                                    [key], {});\n",
              "        if (!dataTable) return;\n",
              "\n",
              "        const docLinkHtml = 'Like what you see? Visit the ' +\n",
              "          '<a target=\"_blank\" href=https://colab.research.google.com/notebooks/data_table.ipynb>data table notebook</a>'\n",
              "          + ' to learn more about interactive tables.';\n",
              "        element.innerHTML = '';\n",
              "        dataTable['output_type'] = 'display_data';\n",
              "        await google.colab.output.renderOutput(dataTable, element);\n",
              "        const docLink = document.createElement('div');\n",
              "        docLink.innerHTML = docLinkHtml;\n",
              "        element.appendChild(docLink);\n",
              "      }\n",
              "    </script>\n",
              "  </div>\n",
              "\n",
              "\n",
              "<div id=\"df-8046fc3e-38b3-44cf-9b90-c5d89d34935c\">\n",
              "  <button class=\"colab-df-quickchart\" onclick=\"quickchart('df-8046fc3e-38b3-44cf-9b90-c5d89d34935c')\"\n",
              "            title=\"Suggest charts.\"\n",
              "            style=\"display:none;\">\n",
              "\n",
              "<svg xmlns=\"http://www.w3.org/2000/svg\" height=\"24px\"viewBox=\"0 0 24 24\"\n",
              "     width=\"24px\">\n",
              "    <g>\n",
              "        <path d=\"M19 3H5c-1.1 0-2 .9-2 2v14c0 1.1.9 2 2 2h14c1.1 0 2-.9 2-2V5c0-1.1-.9-2-2-2zM9 17H7v-7h2v7zm4 0h-2V7h2v10zm4 0h-2v-4h2v4z\"/>\n",
              "    </g>\n",
              "</svg>\n",
              "  </button>\n",
              "\n",
              "<style>\n",
              "  .colab-df-quickchart {\n",
              "      --bg-color: #E8F0FE;\n",
              "      --fill-color: #1967D2;\n",
              "      --hover-bg-color: #E2EBFA;\n",
              "      --hover-fill-color: #174EA6;\n",
              "      --disabled-fill-color: #AAA;\n",
              "      --disabled-bg-color: #DDD;\n",
              "  }\n",
              "\n",
              "  [theme=dark] .colab-df-quickchart {\n",
              "      --bg-color: #3B4455;\n",
              "      --fill-color: #D2E3FC;\n",
              "      --hover-bg-color: #434B5C;\n",
              "      --hover-fill-color: #FFFFFF;\n",
              "      --disabled-bg-color: #3B4455;\n",
              "      --disabled-fill-color: #666;\n",
              "  }\n",
              "\n",
              "  .colab-df-quickchart {\n",
              "    background-color: var(--bg-color);\n",
              "    border: none;\n",
              "    border-radius: 50%;\n",
              "    cursor: pointer;\n",
              "    display: none;\n",
              "    fill: var(--fill-color);\n",
              "    height: 32px;\n",
              "    padding: 0;\n",
              "    width: 32px;\n",
              "  }\n",
              "\n",
              "  .colab-df-quickchart:hover {\n",
              "    background-color: var(--hover-bg-color);\n",
              "    box-shadow: 0 1px 2px rgba(60, 64, 67, 0.3), 0 1px 3px 1px rgba(60, 64, 67, 0.15);\n",
              "    fill: var(--button-hover-fill-color);\n",
              "  }\n",
              "\n",
              "  .colab-df-quickchart-complete:disabled,\n",
              "  .colab-df-quickchart-complete:disabled:hover {\n",
              "    background-color: var(--disabled-bg-color);\n",
              "    fill: var(--disabled-fill-color);\n",
              "    box-shadow: none;\n",
              "  }\n",
              "\n",
              "  .colab-df-spinner {\n",
              "    border: 2px solid var(--fill-color);\n",
              "    border-color: transparent;\n",
              "    border-bottom-color: var(--fill-color);\n",
              "    animation:\n",
              "      spin 1s steps(1) infinite;\n",
              "  }\n",
              "\n",
              "  @keyframes spin {\n",
              "    0% {\n",
              "      border-color: transparent;\n",
              "      border-bottom-color: var(--fill-color);\n",
              "      border-left-color: var(--fill-color);\n",
              "    }\n",
              "    20% {\n",
              "      border-color: transparent;\n",
              "      border-left-color: var(--fill-color);\n",
              "      border-top-color: var(--fill-color);\n",
              "    }\n",
              "    30% {\n",
              "      border-color: transparent;\n",
              "      border-left-color: var(--fill-color);\n",
              "      border-top-color: var(--fill-color);\n",
              "      border-right-color: var(--fill-color);\n",
              "    }\n",
              "    40% {\n",
              "      border-color: transparent;\n",
              "      border-right-color: var(--fill-color);\n",
              "      border-top-color: var(--fill-color);\n",
              "    }\n",
              "    60% {\n",
              "      border-color: transparent;\n",
              "      border-right-color: var(--fill-color);\n",
              "    }\n",
              "    80% {\n",
              "      border-color: transparent;\n",
              "      border-right-color: var(--fill-color);\n",
              "      border-bottom-color: var(--fill-color);\n",
              "    }\n",
              "    90% {\n",
              "      border-color: transparent;\n",
              "      border-bottom-color: var(--fill-color);\n",
              "    }\n",
              "  }\n",
              "</style>\n",
              "\n",
              "  <script>\n",
              "    async function quickchart(key) {\n",
              "      const quickchartButtonEl =\n",
              "        document.querySelector('#' + key + ' button');\n",
              "      quickchartButtonEl.disabled = true;  // To prevent multiple clicks.\n",
              "      quickchartButtonEl.classList.add('colab-df-spinner');\n",
              "      try {\n",
              "        const charts = await google.colab.kernel.invokeFunction(\n",
              "            'suggestCharts', [key], {});\n",
              "      } catch (error) {\n",
              "        console.error('Error during call to suggestCharts:', error);\n",
              "      }\n",
              "      quickchartButtonEl.classList.remove('colab-df-spinner');\n",
              "      quickchartButtonEl.classList.add('colab-df-quickchart-complete');\n",
              "    }\n",
              "    (() => {\n",
              "      let quickchartButtonEl =\n",
              "        document.querySelector('#df-8046fc3e-38b3-44cf-9b90-c5d89d34935c button');\n",
              "      quickchartButtonEl.style.display =\n",
              "        google.colab.kernel.accessAllowed ? 'block' : 'none';\n",
              "    })();\n",
              "  </script>\n",
              "</div>\n",
              "    </div>\n",
              "  </div>\n"
            ]
          },
          "metadata": {},
          "execution_count": 40
        }
      ],
      "source": [
        "import pandas as pd\n",
        "df = pd.read_csv(\"/content/drive/MyDrive/TP web scraping/TP web scraping/EURUSD_Candlestick_1_Hour_BID_19.10.2020-19.10.2023.csv\")\n",
        "for j in range(15):\n",
        "  df[\"Local time\"] =df[\"Local time\"].apply(lambda x :x.replace(\"GMT+0\"+str(j)+\"00\", \"\"))\n",
        "df[\"Local time\"] =df[\"Local time\"].apply(lambda x :x.replace(\":00.000\", \"\"))\n",
        "for i in range(25):\n",
        "  df[\"Local time\"] =df[\"Local time\"].apply(lambda x :x.replace(\"0\"+str(i)+\":00\", \"\"))\n",
        "df['Local time']=pd.to_datetime(df['Local time'])\n",
        "df.tail()"
      ]
    },
    {
      "cell_type": "code",
      "source": [
        "#Check if any zero volumes are available\n",
        "indexZeros = df[ df['Volume'] == 0 ].index\n",
        "\n",
        "df.drop(indexZeros , inplace=True)\n",
        "df.loc[(df[\"Volume\"] == 0 )]\n",
        "df.isna().sum()"
      ],
      "metadata": {
        "colab": {
          "base_uri": "https://localhost:8080/"
        },
        "id": "qO1tuKZ5LfYE",
        "outputId": "483374f4-19f0-4e1f-dbd5-7968d7b2138d"
      },
      "execution_count": null,
      "outputs": [
        {
          "output_type": "execute_result",
          "data": {
            "text/plain": [
              "Local time    0\n",
              "Open          0\n",
              "High          0\n",
              "Low           0\n",
              "Close         0\n",
              "Volume        0\n",
              "dtype: int64"
            ]
          },
          "metadata": {},
          "execution_count": 41
        }
      ]
    },
    {
      "cell_type": "code",
      "source": [
        "!pip install --upgrade scalecast"
      ],
      "metadata": {
        "colab": {
          "base_uri": "https://localhost:8080/"
        },
        "id": "BpcgD0Dw8P23",
        "outputId": "1472afb9-88da-405f-97b7-45f959ad0bda"
      },
      "execution_count": null,
      "outputs": [
        {
          "output_type": "stream",
          "name": "stdout",
          "text": [
            "Requirement already satisfied: scalecast in /usr/local/lib/python3.10/dist-packages (0.19.4)\n",
            "Requirement already satisfied: scikit-learn>=1.3.1 in /usr/local/lib/python3.10/dist-packages (from scalecast) (1.3.2)\n",
            "Requirement already satisfied: statsmodels in /usr/local/lib/python3.10/dist-packages (from scalecast) (0.14.0)\n",
            "Requirement already satisfied: tbats in /usr/local/lib/python3.10/dist-packages (from scalecast) (1.1.3)\n",
            "Requirement already satisfied: scipy in /usr/local/lib/python3.10/dist-packages (from scalecast) (1.11.3)\n",
            "Requirement already satisfied: numpy in /usr/local/lib/python3.10/dist-packages (from scalecast) (1.23.5)\n",
            "Requirement already satisfied: pandas in /usr/local/lib/python3.10/dist-packages (from scalecast) (1.5.3)\n",
            "Requirement already satisfied: matplotlib in /usr/local/lib/python3.10/dist-packages (from scalecast) (3.7.1)\n",
            "Requirement already satisfied: seaborn>=0.13.0 in /usr/local/lib/python3.10/dist-packages (from scalecast) (0.13.0)\n",
            "Requirement already satisfied: xgboost in /usr/local/lib/python3.10/dist-packages (from scalecast) (2.0.1)\n",
            "Requirement already satisfied: lightgbm>=3.2.1 in /usr/local/lib/python3.10/dist-packages (from scalecast) (4.1.0)\n",
            "Requirement already satisfied: dask>=2023.3.2 in /usr/local/lib/python3.10/dist-packages (from scalecast) (2023.8.1)\n",
            "Requirement already satisfied: catboost in /usr/local/lib/python3.10/dist-packages (from scalecast) (1.2.2)\n",
            "Requirement already satisfied: openpyxl in /usr/local/lib/python3.10/dist-packages (from scalecast) (3.1.2)\n",
            "Requirement already satisfied: shap in /usr/local/lib/python3.10/dist-packages (from scalecast) (0.43.0)\n",
            "Requirement already satisfied: click>=8.0 in /usr/local/lib/python3.10/dist-packages (from dask>=2023.3.2->scalecast) (8.1.7)\n",
            "Requirement already satisfied: cloudpickle>=1.5.0 in /usr/local/lib/python3.10/dist-packages (from dask>=2023.3.2->scalecast) (2.2.1)\n",
            "Requirement already satisfied: fsspec>=2021.09.0 in /usr/local/lib/python3.10/dist-packages (from dask>=2023.3.2->scalecast) (2023.6.0)\n",
            "Requirement already satisfied: packaging>=20.0 in /usr/local/lib/python3.10/dist-packages (from dask>=2023.3.2->scalecast) (23.2)\n",
            "Requirement already satisfied: partd>=1.2.0 in /usr/local/lib/python3.10/dist-packages (from dask>=2023.3.2->scalecast) (1.4.1)\n",
            "Requirement already satisfied: pyyaml>=5.3.1 in /usr/local/lib/python3.10/dist-packages (from dask>=2023.3.2->scalecast) (6.0.1)\n",
            "Requirement already satisfied: toolz>=0.10.0 in /usr/local/lib/python3.10/dist-packages (from dask>=2023.3.2->scalecast) (0.12.0)\n",
            "Requirement already satisfied: importlib-metadata>=4.13.0 in /usr/local/lib/python3.10/dist-packages (from dask>=2023.3.2->scalecast) (6.8.0)\n",
            "Requirement already satisfied: joblib>=1.1.1 in /usr/local/lib/python3.10/dist-packages (from scikit-learn>=1.3.1->scalecast) (1.3.2)\n",
            "Requirement already satisfied: threadpoolctl>=2.0.0 in /usr/local/lib/python3.10/dist-packages (from scikit-learn>=1.3.1->scalecast) (3.2.0)\n",
            "Requirement already satisfied: contourpy>=1.0.1 in /usr/local/lib/python3.10/dist-packages (from matplotlib->scalecast) (1.1.1)\n",
            "Requirement already satisfied: cycler>=0.10 in /usr/local/lib/python3.10/dist-packages (from matplotlib->scalecast) (0.12.1)\n",
            "Requirement already satisfied: fonttools>=4.22.0 in /usr/local/lib/python3.10/dist-packages (from matplotlib->scalecast) (4.43.1)\n",
            "Requirement already satisfied: kiwisolver>=1.0.1 in /usr/local/lib/python3.10/dist-packages (from matplotlib->scalecast) (1.4.5)\n",
            "Requirement already satisfied: pillow>=6.2.0 in /usr/local/lib/python3.10/dist-packages (from matplotlib->scalecast) (9.4.0)\n",
            "Requirement already satisfied: pyparsing>=2.3.1 in /usr/local/lib/python3.10/dist-packages (from matplotlib->scalecast) (3.1.1)\n",
            "Requirement already satisfied: python-dateutil>=2.7 in /usr/local/lib/python3.10/dist-packages (from matplotlib->scalecast) (2.8.2)\n",
            "Requirement already satisfied: pytz>=2020.1 in /usr/local/lib/python3.10/dist-packages (from pandas->scalecast) (2023.3.post1)\n",
            "Requirement already satisfied: graphviz in /usr/local/lib/python3.10/dist-packages (from catboost->scalecast) (0.20.1)\n",
            "Requirement already satisfied: plotly in /usr/local/lib/python3.10/dist-packages (from catboost->scalecast) (5.15.0)\n",
            "Requirement already satisfied: six in /usr/local/lib/python3.10/dist-packages (from catboost->scalecast) (1.16.0)\n",
            "Requirement already satisfied: et-xmlfile in /usr/local/lib/python3.10/dist-packages (from openpyxl->scalecast) (1.1.0)\n",
            "Requirement already satisfied: tqdm>=4.27.0 in /usr/local/lib/python3.10/dist-packages (from shap->scalecast) (4.66.1)\n",
            "Requirement already satisfied: slicer==0.0.7 in /usr/local/lib/python3.10/dist-packages (from shap->scalecast) (0.0.7)\n",
            "Requirement already satisfied: numba in /usr/local/lib/python3.10/dist-packages (from shap->scalecast) (0.56.4)\n",
            "Requirement already satisfied: patsy>=0.5.2 in /usr/local/lib/python3.10/dist-packages (from statsmodels->scalecast) (0.5.3)\n",
            "Requirement already satisfied: pmdarima in /usr/local/lib/python3.10/dist-packages (from tbats->scalecast) (2.0.4)\n",
            "Requirement already satisfied: zipp>=0.5 in /usr/local/lib/python3.10/dist-packages (from importlib-metadata>=4.13.0->dask>=2023.3.2->scalecast) (3.17.0)\n",
            "Requirement already satisfied: locket in /usr/local/lib/python3.10/dist-packages (from partd>=1.2.0->dask>=2023.3.2->scalecast) (1.0.0)\n",
            "Requirement already satisfied: llvmlite<0.40,>=0.39.0dev0 in /usr/local/lib/python3.10/dist-packages (from numba->shap->scalecast) (0.39.1)\n",
            "Requirement already satisfied: setuptools in /usr/local/lib/python3.10/dist-packages (from numba->shap->scalecast) (67.7.2)\n",
            "Requirement already satisfied: tenacity>=6.2.0 in /usr/local/lib/python3.10/dist-packages (from plotly->catboost->scalecast) (8.2.3)\n",
            "Requirement already satisfied: Cython!=0.29.18,!=0.29.31,>=0.29 in /usr/local/lib/python3.10/dist-packages (from pmdarima->tbats->scalecast) (3.0.4)\n",
            "Requirement already satisfied: urllib3 in /usr/local/lib/python3.10/dist-packages (from pmdarima->tbats->scalecast) (2.0.7)\n"
          ]
        }
      ]
    },
    {
      "cell_type": "code",
      "source": [
        "from scalecast.Forecaster import Forecaster\n",
        "from scalecast.Pipeline import Transformer, Reverter, Pipeline\n",
        "from scalecast.util import (\n",
        "    find_optimal_transformation,\n",
        "    gen_rnn_grid,\n",
        "    backtest_for_resid_matrix,\n",
        "    get_backtest_resid_matrix,\n",
        "    overwrite_forecast_intervals,\n",
        "    infer_apply_Xvar_selection,\n",
        ")\n",
        "from scalecast import GridGenerator\n",
        "from tensorflow.keras.callbacks import EarlyStopping\n",
        "import pandas_datareader as pdr"
      ],
      "metadata": {
        "id": "mt0JP43H5AZ0"
      },
      "execution_count": null,
      "outputs": []
    },
    {
      "cell_type": "code",
      "source": [
        "close = df[\"Close\"]"
      ],
      "metadata": {
        "id": "TT8ZsjiUI1lh"
      },
      "execution_count": null,
      "outputs": []
    },
    {
      "cell_type": "code",
      "source": [
        "'''f = Forecaster(\n",
        "    y=close,\n",
        "    current_dates=df['Local time'],\n",
        "    future_dates = 24,\n",
        ")\n",
        "f.plot()\n",
        "plt.show()\n",
        "df.head(4)'''"
      ],
      "metadata": {
        "colab": {
          "base_uri": "https://localhost:8080/",
          "height": 35
        },
        "id": "8gZRo_RG40J2",
        "outputId": "d15f881e-f61e-4798-dc9b-3e56acb4e964"
      },
      "execution_count": null,
      "outputs": [
        {
          "output_type": "execute_result",
          "data": {
            "text/plain": [
              "\"f = Forecaster(\\n    y=close,\\n    current_dates=df['Local time'],\\n    future_dates = 24,\\n)\\nf.plot()\\nplt.show()\\ndf.head(4)\""
            ],
            "application/vnd.google.colaboratory.intrinsic+json": {
              "type": "string"
            }
          },
          "metadata": {},
          "execution_count": 45
        }
      ]
    },
    {
      "cell_type": "code",
      "source": [
        "'''def forecaster(f):\n",
        "    f.set_estimator('rnn')\n",
        "    f.manual_forecast(\n",
        "        lags = 24,\n",
        "        layers_struct = [\n",
        "            ('LSTM',{'units':36,'activation':'tanh'}),\n",
        "        ],\n",
        "        epochs=200,\n",
        "        call_me = 'lstm',\n",
        "    )\n",
        "\n",
        "transformer = Transformer(\n",
        "    transformers = [\n",
        "        ('DetrendTransform',{'poly_order':2}),\n",
        "        'DeseasonTransform',\n",
        "    ],\n",
        ")\n",
        "\n",
        "reverter = Reverter(\n",
        "    reverters = [\n",
        "        'DeseasonRevert',\n",
        "        'DetrendRevert',\n",
        "    ],\n",
        "    base_transformer = transformer,\n",
        ")\n",
        "\n",
        "pipeline = Pipeline(\n",
        "    steps = [\n",
        "        ('Transform',transformer),\n",
        "        ('Forecast',forecaster),\n",
        "        ('Revert',reverter),\n",
        "    ]\n",
        ")\n",
        "\n",
        "f = pipeline.fit_predict(f)'''"
      ],
      "metadata": {
        "colab": {
          "base_uri": "https://localhost:8080/",
          "height": 105
        },
        "id": "43u1wDtRBbkp",
        "outputId": "824bc931-b7e3-446f-e17b-036b369e6870"
      },
      "execution_count": null,
      "outputs": [
        {
          "output_type": "execute_result",
          "data": {
            "text/plain": [
              "\"def forecaster(f):\\n    f.set_estimator('rnn')\\n    f.manual_forecast(\\n        lags = 24,\\n        layers_struct = [\\n            ('LSTM',{'units':36,'activation':'tanh'}),\\n        ],\\n        epochs=200,\\n        call_me = 'lstm',\\n    )\\n\\ntransformer = Transformer(\\n    transformers = [\\n        ('DetrendTransform',{'poly_order':2}),\\n        'DeseasonTransform',\\n    ],\\n)\\n\\nreverter = Reverter(\\n    reverters = [\\n        'DeseasonRevert',\\n        'DetrendRevert',\\n    ],\\n    base_transformer = transformer,\\n)\\n\\npipeline = Pipeline(\\n    steps = [\\n        ('Transform',transformer),\\n        ('Forecast',forecaster),\\n        ('Revert',reverter),\\n    ]\\n)\\n\\nf = pipeline.fit_predict(f)\""
            ],
            "application/vnd.google.colaboratory.intrinsic+json": {
              "type": "string"
            }
          },
          "metadata": {},
          "execution_count": 46
        }
      ]
    },
    {
      "cell_type": "code",
      "execution_count": null,
      "metadata": {
        "colab": {
          "base_uri": "https://localhost:8080/",
          "height": 244
        },
        "id": "yx8iZy5v_MvT",
        "outputId": "d9c75980-d1c2-4696-88c0-9cab9c4faa30"
      },
      "outputs": [
        {
          "output_type": "stream",
          "name": "stderr",
          "text": [
            "The default value of numeric_only in DataFrame.corr is deprecated. In a future version, it will default to False. Select only valid columns or specify the value of numeric_only to silence this warning.\n"
          ]
        },
        {
          "output_type": "execute_result",
          "data": {
            "text/plain": [
              "            Open      High       Low     Close    Volume\n",
              "Open    1.000000  0.999926  0.999925  0.999869 -0.393199\n",
              "High    0.999926  1.000000  0.999877  0.999933 -0.388823\n",
              "Low     0.999925  0.999877  1.000000  0.999933 -0.397563\n",
              "Close   0.999869  0.999933  0.999933  1.000000 -0.393141\n",
              "Volume -0.393199 -0.388823 -0.397563 -0.393141  1.000000"
            ],
            "text/html": [
              "\n",
              "  <div id=\"df-29c2d568-441e-4a58-b25e-a75d666f5e90\" class=\"colab-df-container\">\n",
              "    <div>\n",
              "<style scoped>\n",
              "    .dataframe tbody tr th:only-of-type {\n",
              "        vertical-align: middle;\n",
              "    }\n",
              "\n",
              "    .dataframe tbody tr th {\n",
              "        vertical-align: top;\n",
              "    }\n",
              "\n",
              "    .dataframe thead th {\n",
              "        text-align: right;\n",
              "    }\n",
              "</style>\n",
              "<table border=\"1\" class=\"dataframe\">\n",
              "  <thead>\n",
              "    <tr style=\"text-align: right;\">\n",
              "      <th></th>\n",
              "      <th>Open</th>\n",
              "      <th>High</th>\n",
              "      <th>Low</th>\n",
              "      <th>Close</th>\n",
              "      <th>Volume</th>\n",
              "    </tr>\n",
              "  </thead>\n",
              "  <tbody>\n",
              "    <tr>\n",
              "      <th>Open</th>\n",
              "      <td>1.000000</td>\n",
              "      <td>0.999926</td>\n",
              "      <td>0.999925</td>\n",
              "      <td>0.999869</td>\n",
              "      <td>-0.393199</td>\n",
              "    </tr>\n",
              "    <tr>\n",
              "      <th>High</th>\n",
              "      <td>0.999926</td>\n",
              "      <td>1.000000</td>\n",
              "      <td>0.999877</td>\n",
              "      <td>0.999933</td>\n",
              "      <td>-0.388823</td>\n",
              "    </tr>\n",
              "    <tr>\n",
              "      <th>Low</th>\n",
              "      <td>0.999925</td>\n",
              "      <td>0.999877</td>\n",
              "      <td>1.000000</td>\n",
              "      <td>0.999933</td>\n",
              "      <td>-0.397563</td>\n",
              "    </tr>\n",
              "    <tr>\n",
              "      <th>Close</th>\n",
              "      <td>0.999869</td>\n",
              "      <td>0.999933</td>\n",
              "      <td>0.999933</td>\n",
              "      <td>1.000000</td>\n",
              "      <td>-0.393141</td>\n",
              "    </tr>\n",
              "    <tr>\n",
              "      <th>Volume</th>\n",
              "      <td>-0.393199</td>\n",
              "      <td>-0.388823</td>\n",
              "      <td>-0.397563</td>\n",
              "      <td>-0.393141</td>\n",
              "      <td>1.000000</td>\n",
              "    </tr>\n",
              "  </tbody>\n",
              "</table>\n",
              "</div>\n",
              "    <div class=\"colab-df-buttons\">\n",
              "\n",
              "  <div class=\"colab-df-container\">\n",
              "    <button class=\"colab-df-convert\" onclick=\"convertToInteractive('df-29c2d568-441e-4a58-b25e-a75d666f5e90')\"\n",
              "            title=\"Convert this dataframe to an interactive table.\"\n",
              "            style=\"display:none;\">\n",
              "\n",
              "  <svg xmlns=\"http://www.w3.org/2000/svg\" height=\"24px\" viewBox=\"0 -960 960 960\">\n",
              "    <path d=\"M120-120v-720h720v720H120Zm60-500h600v-160H180v160Zm220 220h160v-160H400v160Zm0 220h160v-160H400v160ZM180-400h160v-160H180v160Zm440 0h160v-160H620v160ZM180-180h160v-160H180v160Zm440 0h160v-160H620v160Z\"/>\n",
              "  </svg>\n",
              "    </button>\n",
              "\n",
              "  <style>\n",
              "    .colab-df-container {\n",
              "      display:flex;\n",
              "      gap: 12px;\n",
              "    }\n",
              "\n",
              "    .colab-df-convert {\n",
              "      background-color: #E8F0FE;\n",
              "      border: none;\n",
              "      border-radius: 50%;\n",
              "      cursor: pointer;\n",
              "      display: none;\n",
              "      fill: #1967D2;\n",
              "      height: 32px;\n",
              "      padding: 0 0 0 0;\n",
              "      width: 32px;\n",
              "    }\n",
              "\n",
              "    .colab-df-convert:hover {\n",
              "      background-color: #E2EBFA;\n",
              "      box-shadow: 0px 1px 2px rgba(60, 64, 67, 0.3), 0px 1px 3px 1px rgba(60, 64, 67, 0.15);\n",
              "      fill: #174EA6;\n",
              "    }\n",
              "\n",
              "    .colab-df-buttons div {\n",
              "      margin-bottom: 4px;\n",
              "    }\n",
              "\n",
              "    [theme=dark] .colab-df-convert {\n",
              "      background-color: #3B4455;\n",
              "      fill: #D2E3FC;\n",
              "    }\n",
              "\n",
              "    [theme=dark] .colab-df-convert:hover {\n",
              "      background-color: #434B5C;\n",
              "      box-shadow: 0px 1px 3px 1px rgba(0, 0, 0, 0.15);\n",
              "      filter: drop-shadow(0px 1px 2px rgba(0, 0, 0, 0.3));\n",
              "      fill: #FFFFFF;\n",
              "    }\n",
              "  </style>\n",
              "\n",
              "    <script>\n",
              "      const buttonEl =\n",
              "        document.querySelector('#df-29c2d568-441e-4a58-b25e-a75d666f5e90 button.colab-df-convert');\n",
              "      buttonEl.style.display =\n",
              "        google.colab.kernel.accessAllowed ? 'block' : 'none';\n",
              "\n",
              "      async function convertToInteractive(key) {\n",
              "        const element = document.querySelector('#df-29c2d568-441e-4a58-b25e-a75d666f5e90');\n",
              "        const dataTable =\n",
              "          await google.colab.kernel.invokeFunction('convertToInteractive',\n",
              "                                                    [key], {});\n",
              "        if (!dataTable) return;\n",
              "\n",
              "        const docLinkHtml = 'Like what you see? Visit the ' +\n",
              "          '<a target=\"_blank\" href=https://colab.research.google.com/notebooks/data_table.ipynb>data table notebook</a>'\n",
              "          + ' to learn more about interactive tables.';\n",
              "        element.innerHTML = '';\n",
              "        dataTable['output_type'] = 'display_data';\n",
              "        await google.colab.output.renderOutput(dataTable, element);\n",
              "        const docLink = document.createElement('div');\n",
              "        docLink.innerHTML = docLinkHtml;\n",
              "        element.appendChild(docLink);\n",
              "      }\n",
              "    </script>\n",
              "  </div>\n",
              "\n",
              "\n",
              "<div id=\"df-7973804d-b420-4ad9-9ea0-9f40b681561a\">\n",
              "  <button class=\"colab-df-quickchart\" onclick=\"quickchart('df-7973804d-b420-4ad9-9ea0-9f40b681561a')\"\n",
              "            title=\"Suggest charts.\"\n",
              "            style=\"display:none;\">\n",
              "\n",
              "<svg xmlns=\"http://www.w3.org/2000/svg\" height=\"24px\"viewBox=\"0 0 24 24\"\n",
              "     width=\"24px\">\n",
              "    <g>\n",
              "        <path d=\"M19 3H5c-1.1 0-2 .9-2 2v14c0 1.1.9 2 2 2h14c1.1 0 2-.9 2-2V5c0-1.1-.9-2-2-2zM9 17H7v-7h2v7zm4 0h-2V7h2v10zm4 0h-2v-4h2v4z\"/>\n",
              "    </g>\n",
              "</svg>\n",
              "  </button>\n",
              "\n",
              "<style>\n",
              "  .colab-df-quickchart {\n",
              "      --bg-color: #E8F0FE;\n",
              "      --fill-color: #1967D2;\n",
              "      --hover-bg-color: #E2EBFA;\n",
              "      --hover-fill-color: #174EA6;\n",
              "      --disabled-fill-color: #AAA;\n",
              "      --disabled-bg-color: #DDD;\n",
              "  }\n",
              "\n",
              "  [theme=dark] .colab-df-quickchart {\n",
              "      --bg-color: #3B4455;\n",
              "      --fill-color: #D2E3FC;\n",
              "      --hover-bg-color: #434B5C;\n",
              "      --hover-fill-color: #FFFFFF;\n",
              "      --disabled-bg-color: #3B4455;\n",
              "      --disabled-fill-color: #666;\n",
              "  }\n",
              "\n",
              "  .colab-df-quickchart {\n",
              "    background-color: var(--bg-color);\n",
              "    border: none;\n",
              "    border-radius: 50%;\n",
              "    cursor: pointer;\n",
              "    display: none;\n",
              "    fill: var(--fill-color);\n",
              "    height: 32px;\n",
              "    padding: 0;\n",
              "    width: 32px;\n",
              "  }\n",
              "\n",
              "  .colab-df-quickchart:hover {\n",
              "    background-color: var(--hover-bg-color);\n",
              "    box-shadow: 0 1px 2px rgba(60, 64, 67, 0.3), 0 1px 3px 1px rgba(60, 64, 67, 0.15);\n",
              "    fill: var(--button-hover-fill-color);\n",
              "  }\n",
              "\n",
              "  .colab-df-quickchart-complete:disabled,\n",
              "  .colab-df-quickchart-complete:disabled:hover {\n",
              "    background-color: var(--disabled-bg-color);\n",
              "    fill: var(--disabled-fill-color);\n",
              "    box-shadow: none;\n",
              "  }\n",
              "\n",
              "  .colab-df-spinner {\n",
              "    border: 2px solid var(--fill-color);\n",
              "    border-color: transparent;\n",
              "    border-bottom-color: var(--fill-color);\n",
              "    animation:\n",
              "      spin 1s steps(1) infinite;\n",
              "  }\n",
              "\n",
              "  @keyframes spin {\n",
              "    0% {\n",
              "      border-color: transparent;\n",
              "      border-bottom-color: var(--fill-color);\n",
              "      border-left-color: var(--fill-color);\n",
              "    }\n",
              "    20% {\n",
              "      border-color: transparent;\n",
              "      border-left-color: var(--fill-color);\n",
              "      border-top-color: var(--fill-color);\n",
              "    }\n",
              "    30% {\n",
              "      border-color: transparent;\n",
              "      border-left-color: var(--fill-color);\n",
              "      border-top-color: var(--fill-color);\n",
              "      border-right-color: var(--fill-color);\n",
              "    }\n",
              "    40% {\n",
              "      border-color: transparent;\n",
              "      border-right-color: var(--fill-color);\n",
              "      border-top-color: var(--fill-color);\n",
              "    }\n",
              "    60% {\n",
              "      border-color: transparent;\n",
              "      border-right-color: var(--fill-color);\n",
              "    }\n",
              "    80% {\n",
              "      border-color: transparent;\n",
              "      border-right-color: var(--fill-color);\n",
              "      border-bottom-color: var(--fill-color);\n",
              "    }\n",
              "    90% {\n",
              "      border-color: transparent;\n",
              "      border-bottom-color: var(--fill-color);\n",
              "    }\n",
              "  }\n",
              "</style>\n",
              "\n",
              "  <script>\n",
              "    async function quickchart(key) {\n",
              "      const quickchartButtonEl =\n",
              "        document.querySelector('#' + key + ' button');\n",
              "      quickchartButtonEl.disabled = true;  // To prevent multiple clicks.\n",
              "      quickchartButtonEl.classList.add('colab-df-spinner');\n",
              "      try {\n",
              "        const charts = await google.colab.kernel.invokeFunction(\n",
              "            'suggestCharts', [key], {});\n",
              "      } catch (error) {\n",
              "        console.error('Error during call to suggestCharts:', error);\n",
              "      }\n",
              "      quickchartButtonEl.classList.remove('colab-df-spinner');\n",
              "      quickchartButtonEl.classList.add('colab-df-quickchart-complete');\n",
              "    }\n",
              "    (() => {\n",
              "      let quickchartButtonEl =\n",
              "        document.querySelector('#df-7973804d-b420-4ad9-9ea0-9f40b681561a button');\n",
              "      quickchartButtonEl.style.display =\n",
              "        google.colab.kernel.accessAllowed ? 'block' : 'none';\n",
              "    })();\n",
              "  </script>\n",
              "</div>\n",
              "    </div>\n",
              "  </div>\n"
            ]
          },
          "metadata": {},
          "execution_count": 47
        }
      ],
      "source": [
        "df.corr()"
      ]
    },
    {
      "cell_type": "code",
      "execution_count": null,
      "metadata": {
        "colab": {
          "base_uri": "https://localhost:8080/",
          "height": 556
        },
        "id": "QbpYa91Q_tLB",
        "outputId": "17aa4b41-aaf5-4d03-f0fc-5dc25f0963b0"
      },
      "outputs": [
        {
          "output_type": "execute_result",
          "data": {
            "text/plain": [
              "array([[<Axes: title={'center': 'Local time'}>,\n",
              "        <Axes: title={'center': 'Open'}>],\n",
              "       [<Axes: title={'center': 'High'}>,\n",
              "        <Axes: title={'center': 'Low'}>],\n",
              "       [<Axes: title={'center': 'Close'}>,\n",
              "        <Axes: title={'center': 'Volume'}>]], dtype=object)"
            ]
          },
          "metadata": {},
          "execution_count": 48
        },
        {
          "output_type": "display_data",
          "data": {
            "text/plain": [
              "<Figure size 640x480 with 6 Axes>"
            ],
            "image/png": "[encoded data removed]"
          },
          "metadata": {}
        }
      ],
      "source": [
        "df.hist()"
      ]
    },
    {
      "cell_type": "markdown",
      "metadata": {
        "id": "ftzEY_4-Dc1u"
      },
      "source": [
        "there is a high corrolation between the variables using the correlation matrix"
      ]
    },
    {
      "cell_type": "markdown",
      "metadata": {
        "id": "806zVj3dAg_B"
      },
      "source": [
        "On va travailler sur le Close car les autres variables sont corrolés"
      ]
    },
    {
      "cell_type": "code",
      "execution_count": null,
      "metadata": {
        "id": "46Hx2UzZA2Es"
      },
      "outputs": [],
      "source": [
        "close = df[\"Close\"]\n",
        "rendement = df[\"Close\"].pct_change()\n",
        "volatilite_empirique = df[\"High\"] - df[\"Low\"]"
      ]
    },
    {
      "cell_type": "code",
      "execution_count": null,
      "metadata": {
        "colab": {
          "base_uri": "https://localhost:8080/",
          "height": 447
        },
        "id": "ngoxHxjHA31I",
        "outputId": "1493bda9-5a6f-494d-cb14-a7e80b39c90d"
      },
      "outputs": [
        {
          "output_type": "execute_result",
          "data": {
            "text/plain": [
              "<Axes: >"
            ]
          },
          "metadata": {},
          "execution_count": 50
        },
        {
          "output_type": "display_data",
          "data": {
            "text/plain": [
              "<Figure size 640x480 with 1 Axes>"
            ],
            "image/png": "[encoded data removed]"
          },
          "metadata": {}
        }
      ],
      "source": [
        "close.plot()"
      ]
    },
    {
      "cell_type": "code",
      "execution_count": null,
      "metadata": {
        "colab": {
          "base_uri": "https://localhost:8080/",
          "height": 447
        },
        "id": "0NgIocH6BfUb",
        "outputId": "88187695-93a6-403b-9e30-44bac5aafcef"
      },
      "outputs": [
        {
          "output_type": "execute_result",
          "data": {
            "text/plain": [
              "<Axes: >"
            ]
          },
          "metadata": {},
          "execution_count": 51
        },
        {
          "output_type": "display_data",
          "data": {
            "text/plain": [
              "<Figure size 640x480 with 1 Axes>"
            ],
            "image/png": "[encoded data removed]"
          },
          "metadata": {}
        }
      ],
      "source": [
        "close.hist()"
      ]
    },
    {
      "cell_type": "code",
      "execution_count": null,
      "metadata": {
        "colab": {
          "base_uri": "https://localhost:8080/",
          "height": 447
        },
        "id": "3hYlDKMRBHtv",
        "outputId": "5c82e9a4-3b58-4344-da47-f0e5641356bc"
      },
      "outputs": [
        {
          "output_type": "execute_result",
          "data": {
            "text/plain": [
              "<Axes: >"
            ]
          },
          "metadata": {},
          "execution_count": 52
        },
        {
          "output_type": "display_data",
          "data": {
            "text/plain": [
              "<Figure size 640x480 with 1 Axes>"
            ],
            "image/png": "[encoded data removed]"
          },
          "metadata": {}
        }
      ],
      "source": [
        "rendement.hist(bins=100)"
      ]
    },
    {
      "cell_type": "code",
      "execution_count": null,
      "metadata": {
        "colab": {
          "base_uri": "https://localhost:8080/",
          "height": 447
        },
        "id": "IsrPvjGnBOwb",
        "outputId": "ed74c72f-e5aa-4674-bd0e-1b1e4bedf41b"
      },
      "outputs": [
        {
          "output_type": "execute_result",
          "data": {
            "text/plain": [
              "<Axes: >"
            ]
          },
          "metadata": {},
          "execution_count": 53
        },
        {
          "output_type": "display_data",
          "data": {
            "text/plain": [
              "<Figure size 640x480 with 1 Axes>"
            ],
            "image/png": "[encoded data removed]"
          },
          "metadata": {}
        }
      ],
      "source": [
        "volatilite_empirique.plot()\n"
      ]
    },
    {
      "cell_type": "code",
      "execution_count": null,
      "metadata": {
        "colab": {
          "base_uri": "https://localhost:8080/",
          "height": 447
        },
        "id": "sFAFriAUBYpa",
        "outputId": "7bd7761b-073d-472f-87e3-ce7d9c584270"
      },
      "outputs": [
        {
          "output_type": "execute_result",
          "data": {
            "text/plain": [
              "<Axes: >"
            ]
          },
          "metadata": {},
          "execution_count": 54
        },
        {
          "output_type": "display_data",
          "data": {
            "text/plain": [
              "<Figure size 640x480 with 1 Axes>"
            ],
            "image/png": "[encoded data removed]"
          },
          "metadata": {}
        }
      ],
      "source": [
        "volatilite_empirique.hist(bins=100)"
      ]
    },
    {
      "cell_type": "code",
      "execution_count": null,
      "metadata": {
        "id": "CAVIXv654yL-"
      },
      "outputs": [],
      "source": []
    },
    {
      "cell_type": "markdown",
      "metadata": {
        "id": "cDL3e_xTEPzw"
      },
      "source": [
        "#test de stationnarité des 3 seris temporels"
      ]
    },
    {
      "cell_type": "code",
      "execution_count": null,
      "metadata": {
        "id": "y7h6Tor0EVcB"
      },
      "outputs": [],
      "source": [
        "from statsmodels.tsa.stattools import adfuller"
      ]
    },
    {
      "cell_type": "code",
      "execution_count": null,
      "metadata": {
        "colab": {
          "base_uri": "https://localhost:8080/"
        },
        "id": "tTrYM4PxF4va",
        "outputId": "b304eff3-de7b-4f5f-acdb-966077912977"
      },
      "outputs": [
        {
          "output_type": "stream",
          "name": "stdout",
          "text": [
            "ADF Statistic: -1.0777385649975608\n",
            "p-value: 0.7238673803533853\n",
            "Lags Used: 1\n",
            "Number of Observations Used: 18556\n",
            "Critical Values:\n",
            "   1%: -3.430702457687204\n",
            "   5%: -2.861695773242642\n",
            "   10%: -2.5668529139566507\n",
            "The time series is likely non-stationary (fail to reject the null hypothesis).\n"
          ]
        }
      ],
      "source": [
        "result = adfuller(close, autolag='AIC')\n",
        "# Extract and print the ADF test results\n",
        "adf_statistic, p_value, used_lag, nobs, critical_values, icbest = result\n",
        "\n",
        "print(f'ADF Statistic: {adf_statistic}')\n",
        "print(f'p-value: {p_value}')\n",
        "print(f'Lags Used: {used_lag}')\n",
        "print(f'Number of Observations Used: {nobs}')\n",
        "print('Critical Values:')\n",
        "for key, value in critical_values.items():\n",
        "    print(f'   {key}: {value}')\n",
        "\n",
        "# Interpret the results\n",
        "if p_value <= 0.05:\n",
        "    print(\"The time series is likely stationary (reject the null hypothesis).\")\n",
        "else:\n",
        "    print(\"The time series is likely non-stationary (fail to reject the null hypothesis).\")"
      ]
    },
    {
      "cell_type": "code",
      "execution_count": null,
      "metadata": {
        "colab": {
          "base_uri": "https://localhost:8080/"
        },
        "id": "t5x-xAErFf_Q",
        "outputId": "699f9a58-28e7-4a1e-9576-392317776cc9"
      },
      "outputs": [
        {
          "output_type": "stream",
          "name": "stdout",
          "text": [
            "ADF Statistic: -52.23036730087196\n",
            "p-value: 0.0\n",
            "Lags Used: 6\n",
            "Number of Observations Used: 18550\n",
            "Critical Values:\n",
            "   1%: -3.4307025717054715\n",
            "   5%: -2.861695823631501\n",
            "   10%: -2.5668529407778204\n",
            "The time series is likely stationary (reject the null hypothesis).\n"
          ]
        }
      ],
      "source": [
        "rendement = rendement.dropna()\n",
        "result = adfuller(rendement, autolag='AIC')\n",
        "# Extract and print the ADF test results\n",
        "adf_statistic, p_value, used_lag, nobs, critical_values, icbest = result\n",
        "\n",
        "print(f'ADF Statistic: {adf_statistic}')\n",
        "print(f'p-value: {p_value}')\n",
        "print(f'Lags Used: {used_lag}')\n",
        "print(f'Number of Observations Used: {nobs}')\n",
        "print('Critical Values:')\n",
        "for key, value in critical_values.items():\n",
        "    print(f'   {key}: {value}')\n",
        "\n",
        "# Interpret the results\n",
        "if p_value <= 0.05:\n",
        "    print(\"The time series is likely stationary (reject the null hypothesis).\")\n",
        "else:\n",
        "    print(\"The time series is likely non-stationary (fail to reject the null hypothesis).\")\n"
      ]
    },
    {
      "cell_type": "markdown",
      "metadata": {
        "id": "BnUjggW0GUx4"
      },
      "source": [
        "Right now we can apply the machine learning models to this stationnary series"
      ]
    },
    {
      "cell_type": "code",
      "execution_count": null,
      "metadata": {
        "id": "3Kgb-RHbHC5V"
      },
      "outputs": [],
      "source": [
        "from statsmodels.tsa.seasonal import STL"
      ]
    },
    {
      "cell_type": "code",
      "execution_count": null,
      "metadata": {
        "id": "VGflTNGAJA6O"
      },
      "outputs": [],
      "source": [
        "df[\"volatilite_empirique\"] = df[\"High\"] - df[\"Low\"]\n",
        "\n"
      ]
    },
    {
      "cell_type": "code",
      "execution_count": null,
      "metadata": {
        "colab": {
          "base_uri": "https://localhost:8080/"
        },
        "id": "1mcQNjuiLEjR",
        "outputId": "00ab8bee-4dd1-490c-dd14-3ed5b7443cb6"
      },
      "outputs": [
        {
          "output_type": "execute_result",
          "data": {
            "text/plain": [
              "0       2020-10-19\n",
              "1       2020-10-19\n",
              "2       2020-10-19\n",
              "3       2020-10-19\n",
              "4       2020-10-19\n",
              "           ...    \n",
              "25866   2023-10-19\n",
              "25867   2023-10-19\n",
              "25868   2023-10-19\n",
              "25869   2023-10-19\n",
              "25870   2023-10-19\n",
              "Name: Local time, Length: 18558, dtype: datetime64[ns]"
            ]
          },
          "metadata": {},
          "execution_count": 60
        }
      ],
      "source": [
        "\n",
        "df['Local time']"
      ]
    },
    {
      "cell_type": "code",
      "execution_count": null,
      "metadata": {
        "colab": {
          "base_uri": "https://localhost:8080/",
          "height": 206
        },
        "id": "sAAOin6uJ5ns",
        "outputId": "e13b652a-6f46-4aa6-d6b0-e8d44c49391b"
      },
      "outputs": [
        {
          "output_type": "execute_result",
          "data": {
            "text/plain": [
              "  Local time     Open     High      Low    Close      Volume  \\\n",
              "0 2020-10-19  1.17181  1.17198  1.17122  1.17126   2539.9285   \n",
              "1 2020-10-19  1.17129  1.17158  1.17112  1.17156   5924.8999   \n",
              "2 2020-10-19  1.17154  1.17234  1.17149  1.17234  16521.6699   \n",
              "3 2020-10-19  1.17235  1.17249  1.17143  1.17152  33720.1289   \n",
              "4 2020-10-19  1.17153  1.17153  1.17085  1.17145  27330.2793   \n",
              "\n",
              "   volatilite_empirique  \n",
              "0               0.00076  \n",
              "1               0.00046  \n",
              "2               0.00085  \n",
              "3               0.00106  \n",
              "4               0.00068  "
            ],
            "text/html": [
              "\n",
              "  <div id=\"df-6cf91e15-b7a2-4d89-bf25-9d80233561c2\" class=\"colab-df-container\">\n",
              "    <div>\n",
              "<style scoped>\n",
              "    .dataframe tbody tr th:only-of-type {\n",
              "        vertical-align: middle;\n",
              "    }\n",
              "\n",
              "    .dataframe tbody tr th {\n",
              "        vertical-align: top;\n",
              "    }\n",
              "\n",
              "    .dataframe thead th {\n",
              "        text-align: right;\n",
              "    }\n",
              "</style>\n",
              "<table border=\"1\" class=\"dataframe\">\n",
              "  <thead>\n",
              "    <tr style=\"text-align: right;\">\n",
              "      <th></th>\n",
              "      <th>Local time</th>\n",
              "      <th>Open</th>\n",
              "      <th>High</th>\n",
              "      <th>Low</th>\n",
              "      <th>Close</th>\n",
              "      <th>Volume</th>\n",
              "      <th>volatilite_empirique</th>\n",
              "    </tr>\n",
              "  </thead>\n",
              "  <tbody>\n",
              "    <tr>\n",
              "      <th>0</th>\n",
              "      <td>2020-10-19</td>\n",
              "      <td>1.17181</td>\n",
              "      <td>1.17198</td>\n",
              "      <td>1.17122</td>\n",
              "      <td>1.17126</td>\n",
              "      <td>2539.9285</td>\n",
              "      <td>0.00076</td>\n",
              "    </tr>\n",
              "    <tr>\n",
              "      <th>1</th>\n",
              "      <td>2020-10-19</td>\n",
              "      <td>1.17129</td>\n",
              "      <td>1.17158</td>\n",
              "      <td>1.17112</td>\n",
              "      <td>1.17156</td>\n",
              "      <td>5924.8999</td>\n",
              "      <td>0.00046</td>\n",
              "    </tr>\n",
              "    <tr>\n",
              "      <th>2</th>\n",
              "      <td>2020-10-19</td>\n",
              "      <td>1.17154</td>\n",
              "      <td>1.17234</td>\n",
              "      <td>1.17149</td>\n",
              "      <td>1.17234</td>\n",
              "      <td>16521.6699</td>\n",
              "      <td>0.00085</td>\n",
              "    </tr>\n",
              "    <tr>\n",
              "      <th>3</th>\n",
              "      <td>2020-10-19</td>\n",
              "      <td>1.17235</td>\n",
              "      <td>1.17249</td>\n",
              "      <td>1.17143</td>\n",
              "      <td>1.17152</td>\n",
              "      <td>33720.1289</td>\n",
              "      <td>0.00106</td>\n",
              "    </tr>\n",
              "    <tr>\n",
              "      <th>4</th>\n",
              "      <td>2020-10-19</td>\n",
              "      <td>1.17153</td>\n",
              "      <td>1.17153</td>\n",
              "      <td>1.17085</td>\n",
              "      <td>1.17145</td>\n",
              "      <td>27330.2793</td>\n",
              "      <td>0.00068</td>\n",
              "    </tr>\n",
              "  </tbody>\n",
              "</table>\n",
              "</div>\n",
              "    <div class=\"colab-df-buttons\">\n",
              "\n",
              "  <div class=\"colab-df-container\">\n",
              "    <button class=\"colab-df-convert\" onclick=\"convertToInteractive('df-6cf91e15-b7a2-4d89-bf25-9d80233561c2')\"\n",
              "            title=\"Convert this dataframe to an interactive table.\"\n",
              "            style=\"display:none;\">\n",
              "\n",
              "  <svg xmlns=\"http://www.w3.org/2000/svg\" height=\"24px\" viewBox=\"0 -960 960 960\">\n",
              "    <path d=\"M120-120v-720h720v720H120Zm60-500h600v-160H180v160Zm220 220h160v-160H400v160Zm0 220h160v-160H400v160ZM180-400h160v-160H180v160Zm440 0h160v-160H620v160ZM180-180h160v-160H180v160Zm440 0h160v-160H620v160Z\"/>\n",
              "  </svg>\n",
              "    </button>\n",
              "\n",
              "  <style>\n",
              "    .colab-df-container {\n",
              "      display:flex;\n",
              "      gap: 12px;\n",
              "    }\n",
              "\n",
              "    .colab-df-convert {\n",
              "      background-color: #E8F0FE;\n",
              "      border: none;\n",
              "      border-radius: 50%;\n",
              "      cursor: pointer;\n",
              "      display: none;\n",
              "      fill: #1967D2;\n",
              "      height: 32px;\n",
              "      padding: 0 0 0 0;\n",
              "      width: 32px;\n",
              "    }\n",
              "\n",
              "    .colab-df-convert:hover {\n",
              "      background-color: #E2EBFA;\n",
              "      box-shadow: 0px 1px 2px rgba(60, 64, 67, 0.3), 0px 1px 3px 1px rgba(60, 64, 67, 0.15);\n",
              "      fill: #174EA6;\n",
              "    }\n",
              "\n",
              "    .colab-df-buttons div {\n",
              "      margin-bottom: 4px;\n",
              "    }\n",
              "\n",
              "    [theme=dark] .colab-df-convert {\n",
              "      background-color: #3B4455;\n",
              "      fill: #D2E3FC;\n",
              "    }\n",
              "\n",
              "    [theme=dark] .colab-df-convert:hover {\n",
              "      background-color: #434B5C;\n",
              "      box-shadow: 0px 1px 3px 1px rgba(0, 0, 0, 0.15);\n",
              "      filter: drop-shadow(0px 1px 2px rgba(0, 0, 0, 0.3));\n",
              "      fill: #FFFFFF;\n",
              "    }\n",
              "  </style>\n",
              "\n",
              "    <script>\n",
              "      const buttonEl =\n",
              "        document.querySelector('#df-6cf91e15-b7a2-4d89-bf25-9d80233561c2 button.colab-df-convert');\n",
              "      buttonEl.style.display =\n",
              "        google.colab.kernel.accessAllowed ? 'block' : 'none';\n",
              "\n",
              "      async function convertToInteractive(key) {\n",
              "        const element = document.querySelector('#df-6cf91e15-b7a2-4d89-bf25-9d80233561c2');\n",
              "        const dataTable =\n",
              "          await google.colab.kernel.invokeFunction('convertToInteractive',\n",
              "                                                    [key], {});\n",
              "        if (!dataTable) return;\n",
              "\n",
              "        const docLinkHtml = 'Like what you see? Visit the ' +\n",
              "          '<a target=\"_blank\" href=https://colab.research.google.com/notebooks/data_table.ipynb>data table notebook</a>'\n",
              "          + ' to learn more about interactive tables.';\n",
              "        element.innerHTML = '';\n",
              "        dataTable['output_type'] = 'display_data';\n",
              "        await google.colab.output.renderOutput(dataTable, element);\n",
              "        const docLink = document.createElement('div');\n",
              "        docLink.innerHTML = docLinkHtml;\n",
              "        element.appendChild(docLink);\n",
              "      }\n",
              "    </script>\n",
              "  </div>\n",
              "\n",
              "\n",
              "<div id=\"df-3777196a-7a34-4f18-bf15-0c4a9071034b\">\n",
              "  <button class=\"colab-df-quickchart\" onclick=\"quickchart('df-3777196a-7a34-4f18-bf15-0c4a9071034b')\"\n",
              "            title=\"Suggest charts.\"\n",
              "            style=\"display:none;\">\n",
              "\n",
              "<svg xmlns=\"http://www.w3.org/2000/svg\" height=\"24px\"viewBox=\"0 0 24 24\"\n",
              "     width=\"24px\">\n",
              "    <g>\n",
              "        <path d=\"M19 3H5c-1.1 0-2 .9-2 2v14c0 1.1.9 2 2 2h14c1.1 0 2-.9 2-2V5c0-1.1-.9-2-2-2zM9 17H7v-7h2v7zm4 0h-2V7h2v10zm4 0h-2v-4h2v4z\"/>\n",
              "    </g>\n",
              "</svg>\n",
              "  </button>\n",
              "\n",
              "<style>\n",
              "  .colab-df-quickchart {\n",
              "      --bg-color: #E8F0FE;\n",
              "      --fill-color: #1967D2;\n",
              "      --hover-bg-color: #E2EBFA;\n",
              "      --hover-fill-color: #174EA6;\n",
              "      --disabled-fill-color: #AAA;\n",
              "      --disabled-bg-color: #DDD;\n",
              "  }\n",
              "\n",
              "  [theme=dark] .colab-df-quickchart {\n",
              "      --bg-color: #3B4455;\n",
              "      --fill-color: #D2E3FC;\n",
              "      --hover-bg-color: #434B5C;\n",
              "      --hover-fill-color: #FFFFFF;\n",
              "      --disabled-bg-color: #3B4455;\n",
              "      --disabled-fill-color: #666;\n",
              "  }\n",
              "\n",
              "  .colab-df-quickchart {\n",
              "    background-color: var(--bg-color);\n",
              "    border: none;\n",
              "    border-radius: 50%;\n",
              "    cursor: pointer;\n",
              "    display: none;\n",
              "    fill: var(--fill-color);\n",
              "    height: 32px;\n",
              "    padding: 0;\n",
              "    width: 32px;\n",
              "  }\n",
              "\n",
              "  .colab-df-quickchart:hover {\n",
              "    background-color: var(--hover-bg-color);\n",
              "    box-shadow: 0 1px 2px rgba(60, 64, 67, 0.3), 0 1px 3px 1px rgba(60, 64, 67, 0.15);\n",
              "    fill: var(--button-hover-fill-color);\n",
              "  }\n",
              "\n",
              "  .colab-df-quickchart-complete:disabled,\n",
              "  .colab-df-quickchart-complete:disabled:hover {\n",
              "    background-color: var(--disabled-bg-color);\n",
              "    fill: var(--disabled-fill-color);\n",
              "    box-shadow: none;\n",
              "  }\n",
              "\n",
              "  .colab-df-spinner {\n",
              "    border: 2px solid var(--fill-color);\n",
              "    border-color: transparent;\n",
              "    border-bottom-color: var(--fill-color);\n",
              "    animation:\n",
              "      spin 1s steps(1) infinite;\n",
              "  }\n",
              "\n",
              "  @keyframes spin {\n",
              "    0% {\n",
              "      border-color: transparent;\n",
              "      border-bottom-color: var(--fill-color);\n",
              "      border-left-color: var(--fill-color);\n",
              "    }\n",
              "    20% {\n",
              "      border-color: transparent;\n",
              "      border-left-color: var(--fill-color);\n",
              "      border-top-color: var(--fill-color);\n",
              "    }\n",
              "    30% {\n",
              "      border-color: transparent;\n",
              "      border-left-color: var(--fill-color);\n",
              "      border-top-color: var(--fill-color);\n",
              "      border-right-color: var(--fill-color);\n",
              "    }\n",
              "    40% {\n",
              "      border-color: transparent;\n",
              "      border-right-color: var(--fill-color);\n",
              "      border-top-color: var(--fill-color);\n",
              "    }\n",
              "    60% {\n",
              "      border-color: transparent;\n",
              "      border-right-color: var(--fill-color);\n",
              "    }\n",
              "    80% {\n",
              "      border-color: transparent;\n",
              "      border-right-color: var(--fill-color);\n",
              "      border-bottom-color: var(--fill-color);\n",
              "    }\n",
              "    90% {\n",
              "      border-color: transparent;\n",
              "      border-bottom-color: var(--fill-color);\n",
              "    }\n",
              "  }\n",
              "</style>\n",
              "\n",
              "  <script>\n",
              "    async function quickchart(key) {\n",
              "      const quickchartButtonEl =\n",
              "        document.querySelector('#' + key + ' button');\n",
              "      quickchartButtonEl.disabled = true;  // To prevent multiple clicks.\n",
              "      quickchartButtonEl.classList.add('colab-df-spinner');\n",
              "      try {\n",
              "        const charts = await google.colab.kernel.invokeFunction(\n",
              "            'suggestCharts', [key], {});\n",
              "      } catch (error) {\n",
              "        console.error('Error during call to suggestCharts:', error);\n",
              "      }\n",
              "      quickchartButtonEl.classList.remove('colab-df-spinner');\n",
              "      quickchartButtonEl.classList.add('colab-df-quickchart-complete');\n",
              "    }\n",
              "    (() => {\n",
              "      let quickchartButtonEl =\n",
              "        document.querySelector('#df-3777196a-7a34-4f18-bf15-0c4a9071034b button');\n",
              "      quickchartButtonEl.style.display =\n",
              "        google.colab.kernel.accessAllowed ? 'block' : 'none';\n",
              "    })();\n",
              "  </script>\n",
              "</div>\n",
              "    </div>\n",
              "  </div>\n"
            ]
          },
          "metadata": {},
          "execution_count": 61
        }
      ],
      "source": [
        "df.head()"
      ]
    },
    {
      "cell_type": "code",
      "execution_count": null,
      "metadata": {
        "colab": {
          "base_uri": "https://localhost:8080/"
        },
        "id": "wjQ0yNBVNRtb",
        "outputId": "4b5d27d3-8633-44cc-805d-a7fe4ebdc0bc"
      },
      "outputs": [
        {
          "output_type": "execute_result",
          "data": {
            "text/plain": [
              "0        0.00076\n",
              "1        0.00046\n",
              "2        0.00085\n",
              "3        0.00106\n",
              "4        0.00068\n",
              "          ...   \n",
              "25866    0.00053\n",
              "25867    0.00045\n",
              "25868    0.00045\n",
              "25869    0.00048\n",
              "25870    0.00139\n",
              "Name: volatilite_empirique, Length: 18558, dtype: float64"
            ]
          },
          "metadata": {},
          "execution_count": 62
        }
      ],
      "source": [
        "df['volatilite_empirique']"
      ]
    },
    {
      "cell_type": "code",
      "source": [
        "from statsmodels.tsa.seasonal import MSTL\n",
        "import matplotlib.pyplot as plt\n",
        "res = MSTL(df['Close'], periods=(24, 24*30)).fit()\n",
        "res.plot()\n",
        "plt.tight_layout()\n",
        "plt.show()"
      ],
      "metadata": {
        "colab": {
          "base_uri": "https://localhost:8080/",
          "height": 487
        },
        "id": "tUbo62a3yFui",
        "outputId": "f5ab82ef-1548-4a4b-f560-eb8b840bce6c"
      },
      "execution_count": null,
      "outputs": [
        {
          "output_type": "display_data",
          "data": {
            "text/plain": [
              "<Figure size 640x480 with 5 Axes>"
            ],
            "image/png": "[encoded data removed]"
          },
          "metadata": {}
        }
      ]
    },
    {
      "cell_type": "code",
      "execution_count": null,
      "metadata": {
        "id": "bf4-3VEeAJ5U",
        "colab": {
          "base_uri": "https://localhost:8080/"
        },
        "outputId": "e0e856b4-df1c-44a5-9b14-74ecfc557601"
      },
      "outputs": [
        {
          "output_type": "stream",
          "name": "stdout",
          "text": [
            "Requirement already satisfied: pandas_ta in /usr/local/lib/python3.10/dist-packages (0.3.14b0)\n",
            "Requirement already satisfied: pandas in /usr/local/lib/python3.10/dist-packages (from pandas_ta) (1.5.3)\n",
            "Requirement already satisfied: python-dateutil>=2.8.1 in /usr/local/lib/python3.10/dist-packages (from pandas->pandas_ta) (2.8.2)\n",
            "Requirement already satisfied: pytz>=2020.1 in /usr/local/lib/python3.10/dist-packages (from pandas->pandas_ta) (2023.3.post1)\n",
            "Requirement already satisfied: numpy>=1.21.0 in /usr/local/lib/python3.10/dist-packages (from pandas->pandas_ta) (1.23.5)\n",
            "Requirement already satisfied: six>=1.5 in /usr/local/lib/python3.10/dist-packages (from python-dateutil>=2.8.1->pandas->pandas_ta) (1.16.0)\n"
          ]
        }
      ],
      "source": [
        "! pip install pandas_ta"
      ]
    },
    {
      "cell_type": "markdown",
      "source": [
        "Volatility (ATR): Helps in understanding the potential range of price\n",
        "\n",
        "A high ATR value indicates that the market is experiencing significant price swings and increased volatility. This may imply greater risk, as wider price fluctuations can result in potential losses. Traders often use the ATR to set stop-loss levels and determine position sizes, factoring in their risk tolerance. For instance, a trader may set wider stop-loss orders in a high-volatility market and adjust their position size accordingly to manage risk.movements.\n",
        "\n",
        "\n",
        "Momentum (RSI): Indicates the strength and speed of price movements.\n",
        "\n",
        "\n",
        "Trend Direction (SMA): Provides information about the general trend over different time frames.\n",
        "\n",
        "\n",
        "Price Reference Point (Midprice): Offers a central reference for a specific period."
      ],
      "metadata": {
        "id": "TUczkcYIfDvV"
      }
    },
    {
      "cell_type": "markdown",
      "metadata": {
        "id": "jYpK8X1Y4yMB"
      },
      "source": [
        "# Target categories"
      ]
    },
    {
      "cell_type": "code",
      "execution_count": null,
      "metadata": {
        "id": "XoZzXlHr4yMB"
      },
      "outputs": [],
      "source": [
        "#Target flexible way\n",
        "pipdiff = 500*1e-5 #for TP\n",
        "SLTPRatio = 2 #pipdiff/Ratio gives SL\n",
        "\n",
        "def mytarget(barsupfront, df1):\n",
        "    length = len(df1)\n",
        "    high = list(df1['High'])\n",
        "    low = list(df1['Low'])\n",
        "    close = list(df1['Close'])\n",
        "    open = list(df1['Open'])\n",
        "    trendcat = [None] * length\n",
        "\n",
        "    for line in range (0,length-barsupfront-2):\n",
        "        valueOpenLow = 0\n",
        "        valueOpenHigh = 0\n",
        "        for i in range(1,barsupfront+2):\n",
        "            value1 = open[line+1]-low[line+i]\n",
        "            value2 = open[line+1]-high[line+i]\n",
        "            valueOpenLow = max(value1, valueOpenLow)\n",
        "            valueOpenHigh = min(value2, valueOpenHigh)\n",
        "\n",
        "            if ( (valueOpenLow >= pipdiff) and (-valueOpenHigh <= (pipdiff/SLTPRatio)) ):\n",
        "                trendcat[line] = 1 #-1 downtrend\n",
        "                break\n",
        "            elif ( (valueOpenLow <= (pipdiff/SLTPRatio)) and (-valueOpenHigh >= pipdiff) ):\n",
        "                trendcat[line] = 2 # uptrend\n",
        "                break\n",
        "            else:\n",
        "                trendcat[line] = 0 # no clear trend\n",
        "\n",
        "    return trendcat"
      ]
    },
    {
      "cell_type": "markdown",
      "metadata": {
        "id": "y-PNinU64yMH"
      },
      "source": [
        "# Quick analysis example"
      ]
    },
    {
      "cell_type": "markdown",
      "metadata": {
        "id": "uz6lAIKV4yMI"
      },
      "source": [
        "## Can we use the RSI alone as a trend indicator?"
      ]
    },
    {
      "cell_type": "markdown",
      "metadata": {
        "id": "nz5XcXtJ4yMM"
      },
      "source": [
        "# Machine learning for trend prediction"
      ]
    },
    {
      "cell_type": "markdown",
      "metadata": {
        "id": "PauOxxpF4yMN"
      },
      "source": [
        "## 1 - the perfect model with precise prediction"
      ]
    },
    {
      "cell_type": "markdown",
      "metadata": {
        "id": "NJDbZSAW4yMN"
      },
      "source": [
        "## 2 - less perfect model still with > 40% precision"
      ]
    },
    {
      "cell_type": "markdown",
      "metadata": {
        "id": "hvfKERHU4yMN"
      },
      "source": [
        "## 3 - much less perfect model with precision >35% taking into account our strategy, and our TP/SL ratio"
      ]
    },
    {
      "cell_type": "markdown",
      "metadata": {
        "id": "7WaRU_UD4yMO"
      },
      "source": [
        "### can't let an automated program run your trades\n",
        "### it can be your version of a smart indicator (based on machine learning)\n",
        "\n",
        "## 4 - Our target has categorical values so we need a classificator, KNN?"
      ]
    },
    {
      "cell_type": "markdown",
      "metadata": {
        "id": "4DxJLX6u4yMO"
      },
      "source": [
        "## Splitting features and target"
      ]
    },
    {
      "cell_type": "code",
      "source": [
        "def to_sequences(dataset, seq_size):\n",
        "    x = []\n",
        "    y = []\n",
        "\n",
        "    for i in range(len(dataset)-seq_size-1):\n",
        "        #print(i)\n",
        "        window = dataset[i:(i+seq_size), 0]\n",
        "        x.append(window)\n",
        "        y.append(dataset[i+seq_size, 0])\n",
        "\n",
        "    return np.array(x),np.array(y)"
      ],
      "metadata": {
        "id": "o_I2Ft0M-bqB"
      },
      "execution_count": null,
      "outputs": []
    },
    {
      "cell_type": "code",
      "source": [
        "DF_LSTM=df[['Open',\t'High',\t'Low',\t'Close']]\n",
        "\n"
      ],
      "metadata": {
        "id": "ir9j-mptx2YZ"
      },
      "execution_count": null,
      "outputs": []
    },
    {
      "cell_type": "code",
      "source": [
        "import tensorflow\n",
        "import numpy as np\n",
        "from sklearn.preprocessing import MinMaxScaler\n",
        "from tensorflow.keras.models import Sequential\n",
        "from tensorflow.keras.layers import LSTM, Dense"
      ],
      "metadata": {
        "id": "pimyMEVh9Z_F"
      },
      "execution_count": null,
      "outputs": []
    },
    {
      "cell_type": "code",
      "source": [
        "def Forecaster(df, seq_size):\n",
        "    predicted_prices = []  # Initialize as an empty list\n",
        "\n",
        "    for column in df.columns:  # Renamed 'elm' to 'column' for clarity\n",
        "        dataset = df[column].values\n",
        "        dataset = dataset.reshape(-1, 1)\n",
        "        scaler = MinMaxScaler(feature_range=(0, 1))\n",
        "        dataset = scaler.fit_transform(dataset)\n",
        "        train_size = int(len(dataset) * 0.66)\n",
        "        test_size = len(dataset) - train_size\n",
        "        train, test = dataset[0:train_size, :], dataset[train_size:len(dataset), :]\n",
        "        train_X, train_Y = to_sequences(train, seq_size)\n",
        "        test_X, test_Y = to_sequences(test, seq_size)\n",
        "\n",
        "        train_X = np.reshape(train_X, (train_X.shape[0], 1, train_X.shape[1]))\n",
        "        test_X = np.reshape(test_X, (test_X.shape[0], 1, test_X.shape[1]))\n",
        "\n",
        "        print('Single LSTM with hidden Dense for the ' + column + ' price')\n",
        "        model = Sequential()\n",
        "        model.add(LSTM(64, input_shape=(None, seq_size)))\n",
        "        model.add(Dense(32))\n",
        "        model.add(Dense(1))\n",
        "        model.compile(loss='mean_squared_error', optimizer='adam')\n",
        "        monitor = EarlyStopping(monitor='val_loss', min_delta=1e-3, patience=20,\n",
        "                        verbose=1, mode='auto', restore_best_weights=True)\n",
        "        model.fit(train_X, train_Y, validation_data=(test_X, test_Y),\n",
        "              verbose=2, epochs=50)\n",
        "        test_Predict = model.predict(test_X)\n",
        "        test_Predict = scaler.inverse_transform(test_Predict)\n",
        "        predicted_prices.append(test_Predict[-1, 0])  # Append to the list\n",
        "    model.save('my_lstm_model.h5')\n",
        "    new_df = pd.DataFrame([predicted_prices], columns=df.columns)  # Create a new DataFrame\n",
        "    df = pd.concat([df, new_df], ignore_index=True)  # Concatenate DataFrames with proper indexing\n",
        "\n",
        "    return df  # Return the modified DataFrame\n"
      ],
      "metadata": {
        "id": "oCxlhYu58q4a"
      },
      "execution_count": null,
      "outputs": []
    },
    {
      "cell_type": "code",
      "source": [
        "df1=Forecaster(DF_LSTM,10)"
      ],
      "metadata": {
        "id": "slrTc3zdAr2O"
      },
      "execution_count": null,
      "outputs": []
    },
    {
      "cell_type": "code",
      "source": [
        "df1"
      ],
      "metadata": {
        "colab": {
          "base_uri": "https://localhost:8080/",
          "height": 424
        },
        "id": "sz71Y7FiF7iw",
        "outputId": "60ec4fc2-40c4-437e-d643-6e8a11249381"
      },
      "execution_count": null,
      "outputs": [
        {
          "output_type": "execute_result",
          "data": {
            "text/plain": [
              "           Open      High       Low     Close\n",
              "0      1.171810  1.171980  1.171220  1.171260\n",
              "1      1.171290  1.171580  1.171120  1.171560\n",
              "2      1.171540  1.172340  1.171490  1.172340\n",
              "3      1.172350  1.172490  1.171430  1.171520\n",
              "4      1.171530  1.171530  1.170850  1.171450\n",
              "...         ...       ...       ...       ...\n",
              "18554  1.053500  1.053690  1.053240  1.053380\n",
              "18555  1.053360  1.053500  1.053050  1.053350\n",
              "18556  1.053350  1.053490  1.053010  1.053310\n",
              "18557  1.053300  1.054210  1.052820  1.054010\n",
              "18558  1.053176  1.054102  1.053669  1.053236\n",
              "\n",
              "[18559 rows x 4 columns]"
            ],
            "text/html": [
              "\n",
              "  <div id=\"df-e6d5aae8-df8e-4da6-8604-cb72f13488e1\" class=\"colab-df-container\">\n",
              "    <div>\n",
              "<style scoped>\n",
              "    .dataframe tbody tr th:only-of-type {\n",
              "        vertical-align: middle;\n",
              "    }\n",
              "\n",
              "    .dataframe tbody tr th {\n",
              "        vertical-align: top;\n",
              "    }\n",
              "\n",
              "    .dataframe thead th {\n",
              "        text-align: right;\n",
              "    }\n",
              "</style>\n",
              "<table border=\"1\" class=\"dataframe\">\n",
              "  <thead>\n",
              "    <tr style=\"text-align: right;\">\n",
              "      <th></th>\n",
              "      <th>Open</th>\n",
              "      <th>High</th>\n",
              "      <th>Low</th>\n",
              "      <th>Close</th>\n",
              "    </tr>\n",
              "  </thead>\n",
              "  <tbody>\n",
              "    <tr>\n",
              "      <th>0</th>\n",
              "      <td>1.171810</td>\n",
              "      <td>1.171980</td>\n",
              "      <td>1.171220</td>\n",
              "      <td>1.171260</td>\n",
              "    </tr>\n",
              "    <tr>\n",
              "      <th>1</th>\n",
              "      <td>1.171290</td>\n",
              "      <td>1.171580</td>\n",
              "      <td>1.171120</td>\n",
              "      <td>1.171560</td>\n",
              "    </tr>\n",
              "    <tr>\n",
              "      <th>2</th>\n",
              "      <td>1.171540</td>\n",
              "      <td>1.172340</td>\n",
              "      <td>1.171490</td>\n",
              "      <td>1.172340</td>\n",
              "    </tr>\n",
              "    <tr>\n",
              "      <th>3</th>\n",
              "      <td>1.172350</td>\n",
              "      <td>1.172490</td>\n",
              "      <td>1.171430</td>\n",
              "      <td>1.171520</td>\n",
              "    </tr>\n",
              "    <tr>\n",
              "      <th>4</th>\n",
              "      <td>1.171530</td>\n",
              "      <td>1.171530</td>\n",
              "      <td>1.170850</td>\n",
              "      <td>1.171450</td>\n",
              "    </tr>\n",
              "    <tr>\n",
              "      <th>...</th>\n",
              "      <td>...</td>\n",
              "      <td>...</td>\n",
              "      <td>...</td>\n",
              "      <td>...</td>\n",
              "    </tr>\n",
              "    <tr>\n",
              "      <th>18554</th>\n",
              "      <td>1.053500</td>\n",
              "      <td>1.053690</td>\n",
              "      <td>1.053240</td>\n",
              "      <td>1.053380</td>\n",
              "    </tr>\n",
              "    <tr>\n",
              "      <th>18555</th>\n",
              "      <td>1.053360</td>\n",
              "      <td>1.053500</td>\n",
              "      <td>1.053050</td>\n",
              "      <td>1.053350</td>\n",
              "    </tr>\n",
              "    <tr>\n",
              "      <th>18556</th>\n",
              "      <td>1.053350</td>\n",
              "      <td>1.053490</td>\n",
              "      <td>1.053010</td>\n",
              "      <td>1.053310</td>\n",
              "    </tr>\n",
              "    <tr>\n",
              "      <th>18557</th>\n",
              "      <td>1.053300</td>\n",
              "      <td>1.054210</td>\n",
              "      <td>1.052820</td>\n",
              "      <td>1.054010</td>\n",
              "    </tr>\n",
              "    <tr>\n",
              "      <th>18558</th>\n",
              "      <td>1.053176</td>\n",
              "      <td>1.054102</td>\n",
              "      <td>1.053669</td>\n",
              "      <td>1.053236</td>\n",
              "    </tr>\n",
              "  </tbody>\n",
              "</table>\n",
              "<p>18559 rows × 4 columns</p>\n",
              "</div>\n",
              "    <div class=\"colab-df-buttons\">\n",
              "\n",
              "  <div class=\"colab-df-container\">\n",
              "    <button class=\"colab-df-convert\" onclick=\"convertToInteractive('df-e6d5aae8-df8e-4da6-8604-cb72f13488e1')\"\n",
              "            title=\"Convert this dataframe to an interactive table.\"\n",
              "            style=\"display:none;\">\n",
              "\n",
              "  <svg xmlns=\"http://www.w3.org/2000/svg\" height=\"24px\" viewBox=\"0 -960 960 960\">\n",
              "    <path d=\"M120-120v-720h720v720H120Zm60-500h600v-160H180v160Zm220 220h160v-160H400v160Zm0 220h160v-160H400v160ZM180-400h160v-160H180v160Zm440 0h160v-160H620v160ZM180-180h160v-160H180v160Zm440 0h160v-160H620v160Z\"/>\n",
              "  </svg>\n",
              "    </button>\n",
              "\n",
              "  <style>\n",
              "    .colab-df-container {\n",
              "      display:flex;\n",
              "      gap: 12px;\n",
              "    }\n",
              "\n",
              "    .colab-df-convert {\n",
              "      background-color: #E8F0FE;\n",
              "      border: none;\n",
              "      border-radius: 50%;\n",
              "      cursor: pointer;\n",
              "      display: none;\n",
              "      fill: #1967D2;\n",
              "      height: 32px;\n",
              "      padding: 0 0 0 0;\n",
              "      width: 32px;\n",
              "    }\n",
              "\n",
              "    .colab-df-convert:hover {\n",
              "      background-color: #E2EBFA;\n",
              "      box-shadow: 0px 1px 2px rgba(60, 64, 67, 0.3), 0px 1px 3px 1px rgba(60, 64, 67, 0.15);\n",
              "      fill: #174EA6;\n",
              "    }\n",
              "\n",
              "    .colab-df-buttons div {\n",
              "      margin-bottom: 4px;\n",
              "    }\n",
              "\n",
              "    [theme=dark] .colab-df-convert {\n",
              "      background-color: #3B4455;\n",
              "      fill: #D2E3FC;\n",
              "    }\n",
              "\n",
              "    [theme=dark] .colab-df-convert:hover {\n",
              "      background-color: #434B5C;\n",
              "      box-shadow: 0px 1px 3px 1px rgba(0, 0, 0, 0.15);\n",
              "      filter: drop-shadow(0px 1px 2px rgba(0, 0, 0, 0.3));\n",
              "      fill: #FFFFFF;\n",
              "    }\n",
              "  </style>\n",
              "\n",
              "    <script>\n",
              "      const buttonEl =\n",
              "        document.querySelector('#df-e6d5aae8-df8e-4da6-8604-cb72f13488e1 button.colab-df-convert');\n",
              "      buttonEl.style.display =\n",
              "        google.colab.kernel.accessAllowed ? 'block' : 'none';\n",
              "\n",
              "      async function convertToInteractive(key) {\n",
              "        const element = document.querySelector('#df-e6d5aae8-df8e-4da6-8604-cb72f13488e1');\n",
              "        const dataTable =\n",
              "          await google.colab.kernel.invokeFunction('convertToInteractive',\n",
              "                                                    [key], {});\n",
              "        if (!dataTable) return;\n",
              "\n",
              "        const docLinkHtml = 'Like what you see? Visit the ' +\n",
              "          '<a target=\"_blank\" href=https://colab.research.google.com/notebooks/data_table.ipynb>data table notebook</a>'\n",
              "          + ' to learn more about interactive tables.';\n",
              "        element.innerHTML = '';\n",
              "        dataTable['output_type'] = 'display_data';\n",
              "        await google.colab.output.renderOutput(dataTable, element);\n",
              "        const docLink = document.createElement('div');\n",
              "        docLink.innerHTML = docLinkHtml;\n",
              "        element.appendChild(docLink);\n",
              "      }\n",
              "    </script>\n",
              "  </div>\n",
              "\n",
              "\n",
              "<div id=\"df-77991386-ea98-4cd9-bd19-763c09a75cda\">\n",
              "  <button class=\"colab-df-quickchart\" onclick=\"quickchart('df-77991386-ea98-4cd9-bd19-763c09a75cda')\"\n",
              "            title=\"Suggest charts.\"\n",
              "            style=\"display:none;\">\n",
              "\n",
              "<svg xmlns=\"http://www.w3.org/2000/svg\" height=\"24px\"viewBox=\"0 0 24 24\"\n",
              "     width=\"24px\">\n",
              "    <g>\n",
              "        <path d=\"M19 3H5c-1.1 0-2 .9-2 2v14c0 1.1.9 2 2 2h14c1.1 0 2-.9 2-2V5c0-1.1-.9-2-2-2zM9 17H7v-7h2v7zm4 0h-2V7h2v10zm4 0h-2v-4h2v4z\"/>\n",
              "    </g>\n",
              "</svg>\n",
              "  </button>\n",
              "\n",
              "<style>\n",
              "  .colab-df-quickchart {\n",
              "      --bg-color: #E8F0FE;\n",
              "      --fill-color: #1967D2;\n",
              "      --hover-bg-color: #E2EBFA;\n",
              "      --hover-fill-color: #174EA6;\n",
              "      --disabled-fill-color: #AAA;\n",
              "      --disabled-bg-color: #DDD;\n",
              "  }\n",
              "\n",
              "  [theme=dark] .colab-df-quickchart {\n",
              "      --bg-color: #3B4455;\n",
              "      --fill-color: #D2E3FC;\n",
              "      --hover-bg-color: #434B5C;\n",
              "      --hover-fill-color: #FFFFFF;\n",
              "      --disabled-bg-color: #3B4455;\n",
              "      --disabled-fill-color: #666;\n",
              "  }\n",
              "\n",
              "  .colab-df-quickchart {\n",
              "    background-color: var(--bg-color);\n",
              "    border: none;\n",
              "    border-radius: 50%;\n",
              "    cursor: pointer;\n",
              "    display: none;\n",
              "    fill: var(--fill-color);\n",
              "    height: 32px;\n",
              "    padding: 0;\n",
              "    width: 32px;\n",
              "  }\n",
              "\n",
              "  .colab-df-quickchart:hover {\n",
              "    background-color: var(--hover-bg-color);\n",
              "    box-shadow: 0 1px 2px rgba(60, 64, 67, 0.3), 0 1px 3px 1px rgba(60, 64, 67, 0.15);\n",
              "    fill: var(--button-hover-fill-color);\n",
              "  }\n",
              "\n",
              "  .colab-df-quickchart-complete:disabled,\n",
              "  .colab-df-quickchart-complete:disabled:hover {\n",
              "    background-color: var(--disabled-bg-color);\n",
              "    fill: var(--disabled-fill-color);\n",
              "    box-shadow: none;\n",
              "  }\n",
              "\n",
              "  .colab-df-spinner {\n",
              "    border: 2px solid var(--fill-color);\n",
              "    border-color: transparent;\n",
              "    border-bottom-color: var(--fill-color);\n",
              "    animation:\n",
              "      spin 1s steps(1) infinite;\n",
              "  }\n",
              "\n",
              "  @keyframes spin {\n",
              "    0% {\n",
              "      border-color: transparent;\n",
              "      border-bottom-color: var(--fill-color);\n",
              "      border-left-color: var(--fill-color);\n",
              "    }\n",
              "    20% {\n",
              "      border-color: transparent;\n",
              "      border-left-color: var(--fill-color);\n",
              "      border-top-color: var(--fill-color);\n",
              "    }\n",
              "    30% {\n",
              "      border-color: transparent;\n",
              "      border-left-color: var(--fill-color);\n",
              "      border-top-color: var(--fill-color);\n",
              "      border-right-color: var(--fill-color);\n",
              "    }\n",
              "    40% {\n",
              "      border-color: transparent;\n",
              "      border-right-color: var(--fill-color);\n",
              "      border-top-color: var(--fill-color);\n",
              "    }\n",
              "    60% {\n",
              "      border-color: transparent;\n",
              "      border-right-color: var(--fill-color);\n",
              "    }\n",
              "    80% {\n",
              "      border-color: transparent;\n",
              "      border-right-color: var(--fill-color);\n",
              "      border-bottom-color: var(--fill-color);\n",
              "    }\n",
              "    90% {\n",
              "      border-color: transparent;\n",
              "      border-bottom-color: var(--fill-color);\n",
              "    }\n",
              "  }\n",
              "</style>\n",
              "\n",
              "  <script>\n",
              "    async function quickchart(key) {\n",
              "      const quickchartButtonEl =\n",
              "        document.querySelector('#' + key + ' button');\n",
              "      quickchartButtonEl.disabled = true;  // To prevent multiple clicks.\n",
              "      quickchartButtonEl.classList.add('colab-df-spinner');\n",
              "      try {\n",
              "        const charts = await google.colab.kernel.invokeFunction(\n",
              "            'suggestCharts', [key], {});\n",
              "      } catch (error) {\n",
              "        console.error('Error during call to suggestCharts:', error);\n",
              "      }\n",
              "      quickchartButtonEl.classList.remove('colab-df-spinner');\n",
              "      quickchartButtonEl.classList.add('colab-df-quickchart-complete');\n",
              "    }\n",
              "    (() => {\n",
              "      let quickchartButtonEl =\n",
              "        document.querySelector('#df-77991386-ea98-4cd9-bd19-763c09a75cda button');\n",
              "      quickchartButtonEl.style.display =\n",
              "        google.colab.kernel.accessAllowed ? 'block' : 'none';\n",
              "    })();\n",
              "  </script>\n",
              "</div>\n",
              "    </div>\n",
              "  </div>\n"
            ]
          },
          "metadata": {},
          "execution_count": 71
        }
      ]
    },
    {
      "cell_type": "code",
      "execution_count": null,
      "metadata": {
        "id": "XZxZORYW4yL_",
        "scrolled": false
      },
      "outputs": [],
      "source": [
        "import pandas_ta as ta\n",
        "df1['ATR'] = df1.ta.atr(length=20)\n",
        "df1['RSI'] = df1.ta.rsi()\n",
        "df1['Average'] = df1.ta.midprice(length=1) #midprice\n",
        "df1['MA40'] = df1.ta.sma(length=40)\n",
        "df1['MA80'] = df1.ta.sma(length=80)\n",
        "df1['MA160'] = df1.ta.sma(length=160)\n",
        "\n",
        "from scipy.stats import linregress\n",
        "def get_slope(array):\n",
        "    y = np.array(array)\n",
        "    x = np.arange(len(y))\n",
        "    slope, intercept, r_value, p_value, std_err = linregress(x,y)\n",
        "    return slope\n",
        "\n",
        "#!!!!!!!!!!!!!!!!!!!!!!!!!!!!!\n",
        "backrollingN = 6\n",
        "#!!!!!!!!!!!!!!!!!!!!!!!!!!!!!\n",
        "df1['slopeMA40'] = df1['MA40'].rolling(window=backrollingN).apply(get_slope, raw=True)\n",
        "df1['slopeMA80'] = df1['MA80'].rolling(window=backrollingN).apply(get_slope, raw=True)\n",
        "df1['slopeMA160'] = df1['MA160'].rolling(window=backrollingN).apply(get_slope, raw=True)\n",
        "df1['AverageSlope'] = df1['Average'].rolling(window=backrollingN).apply(get_slope, raw=True)\n",
        "df1['RSISlope'] = df1['RSI'].rolling(window=backrollingN).apply(get_slope, raw=True)"
      ]
    },
    {
      "cell_type": "code",
      "execution_count": null,
      "metadata": {
        "id": "Z9lcEySy4yMC",
        "scrolled": true
      },
      "outputs": [],
      "source": [
        "# mytarget(barsfront to take into account, dataframe)\n",
        "df1['mytarget'] = mytarget(16, df1)\n",
        "df1.head(50)"
      ]
    },
    {
      "cell_type": "code",
      "execution_count": null,
      "metadata": {
        "id": "1nw7l1j24yMI",
        "colab": {
          "base_uri": "https://localhost:8080/",
          "height": 1000
        },
        "outputId": "df71b197-be63-4205-f997-f06e98831387"
      },
      "outputs": [
        {
          "output_type": "stream",
          "name": "stderr",
          "text": [
            "To output multiple subplots, the figure containing the passed axes is being cleared.\n"
          ]
        },
        {
          "output_type": "display_data",
          "data": {
            "text/plain": [
              "<Figure size 1500x2000 with 12 Axes>"
            ],
            "image/png": "[encoded data removed]"
          },
          "metadata": {}
        }
      ],
      "source": [
        "fig = plt.figure(figsize = (15,20))\n",
        "ax = fig.gca()\n",
        "df_model= df1[[ 'ATR', 'RSI', 'Average', 'MA40', 'MA80', 'MA160', 'slopeMA40', 'slopeMA80', 'slopeMA160', 'AverageSlope', 'RSISlope', 'mytarget']]\n",
        "df_model.hist(ax = ax)\n",
        "plt.show()"
      ]
    },
    {
      "cell_type": "code",
      "execution_count": null,
      "metadata": {
        "id": "bIHccTHe4yMJ",
        "colab": {
          "base_uri": "https://localhost:8080/",
          "height": 430
        },
        "outputId": "ad3eea96-97e6-4f4e-9e8a-d2a501a66bff"
      },
      "outputs": [
        {
          "output_type": "display_data",
          "data": {
            "text/plain": [
              "<Figure size 640x480 with 1 Axes>"
            ],
            "image/png": "[encoded data removed]"
          },
          "metadata": {}
        }
      ],
      "source": [
        "from matplotlib import pyplot\n",
        "df_up=df1.RSI[ df1['mytarget'] == 2 ]\n",
        "df_down=df1.RSI[ df1['mytarget'] == 1 ]\n",
        "df_unclear=df1.RSI[ df1['mytarget'] == 0 ]\n",
        "pyplot.hist(df_unclear, bins=100, alpha=0.5, label='unclear')\n",
        "pyplot.hist(df_down, bins=100, alpha=0.5, label='down')\n",
        "pyplot.hist(df_up, bins=100, alpha=0.5, label='up')\n",
        "\n",
        "pyplot.legend(loc='upper right')\n",
        "pyplot.show()"
      ]
    },
    {
      "cell_type": "code",
      "execution_count": null,
      "metadata": {
        "id": "QpseddNZ4yMP",
        "colab": {
          "base_uri": "https://localhost:8080/"
        },
        "outputId": "2dd97338-6eb1-462a-b1ae-9ea14136b478"
      },
      "outputs": [
        {
          "output_type": "stream",
          "name": "stdout",
          "text": [
            "164      1.0\n",
            "165      1.0\n",
            "166      1.0\n",
            "167      1.0\n",
            "168      1.0\n",
            "        ... \n",
            "18536    0.0\n",
            "18537    0.0\n",
            "18538    0.0\n",
            "18539    0.0\n",
            "18540    0.0\n",
            "Name: mytarget, Length: 18377, dtype: float64\n"
          ]
        }
      ],
      "source": [
        "df_model=df_model.dropna()\n",
        "\n",
        "attributes=['ATR', 'RSI', 'Average', 'MA40', 'MA80', 'MA160', 'slopeMA40', 'slopeMA80', 'slopeMA160', 'AverageSlope', 'RSISlope']\n",
        "X = df_model[attributes]\n",
        "y = df_model[\"mytarget\"]\n",
        "\n",
        "print(y)"
      ]
    },
    {
      "cell_type": "code",
      "execution_count": null,
      "metadata": {
        "id": "80XRExI54yMP"
      },
      "outputs": [],
      "source": [
        "'''from sklearn.model_selection import train_test_split\n",
        "X_train, X_test, y_train, y_test = train_test_split(X, y, test_size=0.2, random_state=1)'''"
      ]
    },
    {
      "cell_type": "markdown",
      "metadata": {
        "id": "dvCL_7Ws4yMQ"
      },
      "source": [
        "## Fitting the KNN model"
      ]
    },
    {
      "cell_type": "code",
      "execution_count": null,
      "metadata": {
        "id": "V3etG2il4yMQ"
      },
      "outputs": [],
      "source": [
        "'''from sklearn.neighbors import KNeighborsClassifier\n",
        "\n",
        "model = KNeighborsClassifier(n_neighbors=200, weights='uniform', algorithm='kd_tree', leaf_size=30, p=1, metric='minkowski', metric_params=None, n_jobs=1)\n",
        "model.fit(X_train, y_train)\n",
        "\n",
        "y_pred_train = model.predict(X_train)\n",
        "y_pred_test = model.predict(X_test)'''"
      ]
    },
    {
      "cell_type": "markdown",
      "metadata": {
        "id": "WYtTbn2r4yMT"
      },
      "source": [
        "## Quick evaluation of our fitting"
      ]
    },
    {
      "cell_type": "code",
      "execution_count": null,
      "metadata": {
        "id": "mAs6b8Hc4yMU"
      },
      "outputs": [],
      "source": [
        "'''from sklearn.metrics import accuracy_score\n",
        "accuracy_train = accuracy_score(y_train, y_pred_train)\n",
        "accuracy_test = accuracy_score(y_test, y_pred_test)\n",
        "print(\"Accuracy train: %.2f%%\" % (accuracy_train * 100.0))\n",
        "print(\"Accuracy test: %.2f%%\" % (accuracy_test * 100.0))\n",
        "\n",
        "#------------------------------------------------------------------\n",
        "#--- How should I compare my accuracy ?\n",
        "print(df_model['mytarget'].value_counts()*100/df_model['mytarget'].count())\n",
        "\n",
        "'''"
      ]
    },
    {
      "cell_type": "markdown",
      "metadata": {
        "id": "GFqvQgK54yMW"
      },
      "source": [
        "## More powerful model XGBoost"
      ]
    },
    {
      "cell_type": "code",
      "execution_count": null,
      "metadata": {
        "id": "6hzDXIqJ4yMW"
      },
      "outputs": [],
      "source": [
        "'''from xgboost import XGBClassifier\n",
        "model = XGBClassifier()\n",
        "model.fit(X_train, y_train)\n",
        "pred_train = model.predict(X_train)\n",
        "pred_test = model.predict(X_test)\n",
        "acc_train = accuracy_score(y_train, pred_train)\n",
        "acc_test = accuracy_score(y_test, pred_test)\n",
        "print('****Train Results****')\n",
        "print(\"Accuracy: {:.4%}\".format(acc_train))\n",
        "print('****Test Results****')\n",
        "print(\"Accuracy: {:.4%}\".format(acc_test))'''"
      ]
    },
    {
      "cell_type": "markdown",
      "metadata": {
        "id": "WD09b2qS4yMc"
      },
      "source": [
        "## !!Data sampling shouldn't be random"
      ]
    },
    {
      "cell_type": "code",
      "execution_count": null,
      "metadata": {
        "id": "VDqo-fpZ4yMd",
        "colab": {
          "base_uri": "https://localhost:8080/"
        },
        "outputId": "e18e000a-b5e6-4396-fc5f-2ad7e7047107"
      },
      "outputs": [
        {
          "output_type": "stream",
          "name": "stdout",
          "text": [
            "****Train Results****\n",
            "Accuracy: 94.8364%\n",
            "****Test Results****\n",
            "Accuracy: 53.2100%\n"
          ]
        }
      ],
      "source": [
        "#random sampling\n",
        "#X_train, X_test, y_train, y_test = train_test_split(X, y, test_size=0.2, random_state=10)\n",
        "from xgboost import XGBClassifier\n",
        "from sklearn.metrics import accuracy_score\n",
        "#sequential sampling\n",
        "train_index = int(0.8 * len(X))\n",
        "scaler = MinMaxScaler(feature_range=(0, 1))\n",
        "X = scaler.fit_transform(X)\n",
        "X_train, X_test = X[:train_index], X[train_index:]\n",
        "y_train, y_test = y[:train_index], y[train_index:]\n",
        "scaler = MinMaxScaler(feature_range=(0, 1))\n",
        "\n",
        "\n",
        "model = XGBClassifier()\n",
        "model.fit(X_train, y_train)\n",
        "pred_train = model.predict(X_train)\n",
        "pred_test = model.predict(X_test)\n",
        "\n",
        "acc_train = accuracy_score(y_train, pred_train)\n",
        "acc_test =accuracy_score(y_test, pred_test)\n",
        "print('****Train Results****')\n",
        "print(\"Accuracy: {:.4%}\".format(acc_train))\n",
        "print('****Test Results****')\n",
        "print(\"Accuracy: {:.4%}\".format(acc_test))"
      ]
    },
    {
      "cell_type": "code",
      "source": [
        "# Random Model, gambler?\n",
        "pred_test = np.random.choice([0, 1, 2], len(pred_test))\n",
        "accuracy_test = accuracy_score(y_test, pred_test)\n",
        "print(\"Accuracy Gambler: %.2f%%\" % (accuracy_test * 100.0))"
      ],
      "metadata": {
        "colab": {
          "base_uri": "https://localhost:8080/"
        },
        "id": "yNeQrjLJqqiJ",
        "outputId": "3da01d2b-f31a-48ae-d6fb-b4f5fffaa7b4"
      },
      "execution_count": null,
      "outputs": [
        {
          "output_type": "stream",
          "name": "stdout",
          "text": [
            "Accuracy Gambler: 34.98%\n"
          ]
        }
      ]
    },
    {
      "cell_type": "markdown",
      "metadata": {
        "id": "yp-o7vqS4yMd"
      },
      "source": [
        "## Which features are most important for our model?"
      ]
    },
    {
      "cell_type": "code",
      "execution_count": null,
      "metadata": {
        "id": "YOvcM7614yMe",
        "colab": {
          "base_uri": "https://localhost:8080/",
          "height": 472
        },
        "outputId": "537fa2ae-7da1-4d88-c36d-73d84c49311a"
      },
      "outputs": [
        {
          "output_type": "display_data",
          "data": {
            "text/plain": [
              "<Figure size 640x480 with 1 Axes>"
            ],
            "image/png": "[encoded data removed]"
          },
          "metadata": {}
        }
      ],
      "source": [
        "from matplotlib import pyplot\n",
        "from xgboost import plot_importance\n",
        "#plot feature importance\n",
        "plot_importance(model)\n",
        "pyplot.show()"
      ]
    },
    {
      "cell_type": "code",
      "source": [
        "attributes=['ATR', 'RSI', 'slopeMA80', 'slopeMA160',]\n",
        "X_1 = df_model[attributes]"
      ],
      "metadata": {
        "id": "VbAHzB3HvNyB"
      },
      "execution_count": null,
      "outputs": []
    },
    {
      "cell_type": "code",
      "source": [
        "train_index1 = int(0.8 * len(X_1))\n",
        "X_1 = scaler.fit_transform(X)\n",
        "X_train1, X_test1 = X_1[:train_index1], X[train_index1:]\n",
        "y_train1, y_test1 = y[:train_index1], y[train_index1:]\n",
        "\n",
        "\n",
        "from sklearn.model_selection import GridSearchCV, RandomizedSearchCV\n",
        "from xgboost import XGBClassifier\n",
        "\n",
        "# Assuming you have your data loaded in X_train and y_train\n",
        "\n",
        "# Define the hyperparameters and their respective search ranges\n",
        "param_grid = {\n",
        "    'learning_rate': [0.01, 0.1, 0.2],\n",
        "    'max_depth': [3, 4, 5],\n",
        "    'min_child_weight': [1, 3, 5],\n",
        "    'subsample': [0.8, 0.9, 1.0],\n",
        "    'colsample_bytree': [0.8, 0.9, 1.0]\n",
        "}\n",
        "\n",
        "# Initialize an XGBoost classifier\n",
        "model1 = XGBClassifier()\n",
        "\n",
        "# Grid Search\n",
        "grid_search = GridSearchCV(model1, param_grid, scoring='accuracy', cv=3)\n",
        "grid_search.fit(X_train1, y_train1)\n",
        "\n",
        "# Random Search\n",
        "random_search = RandomizedSearchCV(model1, param_distributions=param_grid,\n",
        "                                   n_iter=10, scoring='accuracy', cv=3)\n",
        "random_search.fit(X_train1, y_train1)\n",
        "\n",
        "# Print the best parameters from both searches\n",
        "print(\"Grid Search - Best Parameters:\", grid_search.best_params_)\n",
        "print(\"Random Search - Best Parameters:\", random_search.best_params_)\n",
        "\n"
      ],
      "metadata": {
        "colab": {
          "base_uri": "https://localhost:8080/"
        },
        "id": "R8JiCWeFvxXJ",
        "outputId": "51600cae-2a1b-43d9-ac69-13535cb5ec6d"
      },
      "execution_count": null,
      "outputs": [
        {
          "output_type": "stream",
          "name": "stdout",
          "text": [
            "Grid Search - Best Parameters: {'colsample_bytree': 1.0, 'learning_rate': 0.01, 'max_depth': 3, 'min_child_weight': 1, 'subsample': 0.8}\n",
            "Random Search - Best Parameters: {'subsample': 0.8, 'min_child_weight': 5, 'max_depth': 3, 'learning_rate': 0.01, 'colsample_bytree': 1.0}\n"
          ]
        }
      ]
    },
    {
      "cell_type": "markdown",
      "source": [
        "#Using the Grid Search"
      ],
      "metadata": {
        "id": "OT1hd0VJzvVT"
      }
    },
    {
      "cell_type": "code",
      "source": [
        "xgb_model=XGBClassifier(**{'colsample_bytree': 1.0, 'learning_rate': 0.01, 'max_depth': 3, 'min_child_weight': 1, 'subsample': 0.8})\n",
        "xgb_model.fit(X_train1, y_train1)\n",
        "pred_train1 = xgb_model.predict(X_train1)\n",
        "pred_test1 = xgb_model.predict(X_test1)\n",
        "\n",
        "acc_train1 = accuracy_score(y_train1, pred_train1)\n",
        "acc_test1 =accuracy_score(y_test1, pred_test1)\n",
        "print('****Train Results****')\n",
        "print(\"Accuracy: {:.4%}\".format(acc_train1))\n",
        "print('****Test Results****')\n",
        "print(\"Accuracy: {:.4%}\".format(acc_test1))"
      ],
      "metadata": {
        "colab": {
          "base_uri": "https://localhost:8080/"
        },
        "id": "icxFjl8uw9ZJ",
        "outputId": "98c61a7c-48c1-4a54-886c-b7417c071917"
      },
      "execution_count": null,
      "outputs": [
        {
          "output_type": "stream",
          "name": "stdout",
          "text": [
            "****Train Results****\n",
            "Accuracy: 62.6284%\n",
            "****Test Results****\n",
            "Accuracy: 63.7378%\n"
          ]
        }
      ]
    },
    {
      "cell_type": "markdown",
      "source": [
        "#Using the Random search"
      ],
      "metadata": {
        "id": "nob5ulC5z00P"
      }
    },
    {
      "cell_type": "code",
      "source": [
        "xgb_model1=XGBClassifier(**{'subsample': 0.8, 'min_child_weight': 5, 'max_depth': 3, 'learning_rate': 0.01, 'colsample_bytree': 1.0})\n",
        "xgb_model1.fit(X_train1, y_train1)\n",
        "pred_train1 = xgb_model1.predict(X_train1)\n",
        "pred_test1 = xgb_model1.predict(X_test1)\n",
        "\n",
        "acc_train1 = accuracy_score(y_train1, pred_train1)\n",
        "acc_test1 =accuracy_score(y_test1, pred_test1)\n",
        "print('****Train Results****')\n",
        "print(\"Accuracy: {:.4%}\".format(acc_train1))\n",
        "print('****Test Results****')\n",
        "print(\"Accuracy: {:.4%}\".format(acc_test1))"
      ],
      "metadata": {
        "colab": {
          "base_uri": "https://localhost:8080/"
        },
        "id": "hWhk4f2hz0fY",
        "outputId": "f6dbd2b8-946a-4dde-8515-d9ed1d8902cb"
      },
      "execution_count": null,
      "outputs": [
        {
          "output_type": "stream",
          "name": "stdout",
          "text": [
            "****Train Results****\n",
            "Accuracy: 62.6148%\n",
            "****Test Results****\n",
            "Accuracy: 63.6561%\n"
          ]
        }
      ]
    },
    {
      "cell_type": "markdown",
      "metadata": {
        "id": "frVDsyi24yMe"
      },
      "source": [
        "# Automated orders using python and Machine Learning\n",
        "## Previous videos\n",
        "### 1 - Install Anaconda, Jupyter NB, Pandas_TA (Technical Analysis)\n",
        "### 2 - Download price data from online resources, and add our technical indicators to our exchange price dataframe\n",
        "### 3 - Fit a Machine learning model and predict future price trends using KNN and XGBOOST classifiers\n",
        "### 4 - Save and Load a ML model,\n",
        "### - according to the model's advice\n",
        "### - passing orders (sell/buy) automatically\n",
        "### - send an email notification about newly applied trading operations"
      ]
    },
    {
      "cell_type": "markdown",
      "metadata": {
        "id": "xrAwOlO84yMe"
      },
      "source": [
        "## Load Machine Learning Model from Disk and Test it"
      ]
    },
    {
      "cell_type": "code",
      "execution_count": null,
      "metadata": {
        "id": "QRQtENgW4yMe"
      },
      "outputs": [],
      "source": [
        "import joblib\n",
        "\n",
        "# save your ML model to disk\n",
        "filename = 'mymodel1.sav'\n",
        "joblib.dump(model, filename)\n",
        "\n",
        "#load the model from disk\n",
        "loaded_model = joblib.load('mymodel1.sav')"
      ]
    },
    {
      "cell_type": "markdown",
      "metadata": {
        "id": "KP3cGw7j4yMg"
      },
      "source": [
        "## Live Automated Orders with email notification"
      ]
    },
    {
      "cell_type": "code",
      "execution_count": null,
      "metadata": {
        "id": "KfBIumkw4yMh"
      },
      "outputs": [],
      "source": [
        "from apscheduler.schedulers.blocking import BlockingScheduler\n",
        "import json\n",
        "from oandapyV20 import API\n",
        "import oandapyV20.endpoints.orders as orders\n",
        "from oandapyV20.contrib.requests import MarketOrderRequest\n",
        "from oanda_candles import Pair, Gran, CandleCollector\n",
        "from oandapyV20.contrib.requests import TakeProfitDetails, StopLossDetails\n",
        "\n",
        "\n",
        "import smtplib\n",
        "gmail_user = 'email@gmail.com'\n",
        "gmail_password = 'email password here'\n",
        "sent_from = gmail_user\n",
        "to = ['email@gmail.com']\n",
        "subject = 'info CHF'\n"
      ]
    },
    {
      "cell_type": "code",
      "execution_count": null,
      "metadata": {
        "id": "e67c6pJK4yMi"
      },
      "outputs": [],
      "source": [
        "ModelPrediction = 0\n",
        "def some_job():\n",
        "    access_token=\"INSERT TOKEN HERE, YOU GET IT FROM YOUR OANDA ACCOUNT\"\n",
        "    collector = CandleCollector(access_token, Pair.USD_CHF, Gran.H4)\n",
        "    candles = collector.grab(2*161)\n",
        "\n",
        "    dfstream = pd.DataFrame(columns=['Open','Close','High','Low'])\n",
        "    i=0\n",
        "    for candle in candles:\n",
        "        dfstream.loc[i, ['Open']] = float(str(candle.bid.o))\n",
        "        dfstream.loc[i, ['Close']] = float(str(candle.bid.c))\n",
        "        dfstream.loc[i, ['High']] = float(str(candle.bid.h))\n",
        "        dfstream.loc[i, ['Low']] = float(str(candle.bid.l))\n",
        "        i=i+1\n",
        "\n",
        "    dfstream['Open'] = dfstream['Open'].astype(float)\n",
        "    dfstream['Close'] = dfstream['Close'].astype(float)\n",
        "    dfstream['High'] = dfstream['High'].astype(float)\n",
        "    dfstream['Low'] = dfstream['Low'].astype(float)\n",
        "\n",
        "    #dfstream['Average'] = (dfstream['High']+dfstream['Low'])/2\n",
        "    #dfstream['MA40'] = dfstream['Open'].rolling(window=40).mean()\n",
        "    #dfstream['MA80'] = dfstream['Open'].rolling(window=80).mean()\n",
        "    #dfstream['MA160'] = dfstream['Open'].rolling(window=160).mean()\n",
        "\n",
        "    import numpy as np\n",
        "    import pandas_ta as ta\n",
        "    #attributes=['ATR', 'RSI', 'Average',\n",
        "    #'MA40', 'MA80', 'MA160', 'slopeMA40',\n",
        "    #'slopeMA80', 'slopeMA160', 'AverageSlope', 'RSISlope']\n",
        "    dfstream['ATR'] = dfstream.ta.atr(length=20)\n",
        "    dfstream['RSI'] = dfstream.ta.rsi()\n",
        "    dfstream['Average'] = dfstream.ta.midprice(length=1) #midprice\n",
        "    dfstream['MA40'] = dfstream.ta.sma(length=40)\n",
        "    dfstream['MA80'] = dfstream.ta.sma(length=80)\n",
        "    dfstream['MA160'] = dfstream.ta.sma(length=160)\n",
        "\n",
        "#from scipy.stats import linregress\n",
        "#def get_slope(array):\n",
        "#    y = np.array(array)\n",
        "#    x = np.arange(len(y))\n",
        "#    slope, intercept, r_value, p_value, std_err = linregress(x,y)\n",
        "#    return slope\n",
        "\n",
        "    #!!!!!!!!!!!!!!!!!!!!!!!!!!!!!\n",
        "    backrollingN = 6\n",
        "    #!!!!!!!!!!!!!!!!!!!!!!!!!!!!!\n",
        "    dfstream['slopeMA40'] = dfstream['MA40'].rolling(window=backrollingN).apply(get_slope, raw=True)\n",
        "    dfstream['slopeMA80'] = dfstream['MA80'].rolling(window=backrollingN).apply(get_slope, raw=True)\n",
        "    dfstream['slopeMA160'] = dfstream['MA160'].rolling(window=backrollingN).apply(get_slope, raw=True)\n",
        "    dfstream['AverageSlope'] = dfstream['Average'].rolling(window=backrollingN).apply(get_slope, raw=True)\n",
        "    dfstream['RSISlope'] = dfstream['RSI'].rolling(window=backrollingN).apply(get_slope, raw=True)\n",
        "\n",
        "    #________________________________________________________________________________________________\n",
        "    X_stream = dfstream.iloc[[320]]# !!! Index takes last CLOSED candle\n",
        "    #attributes=['ATR', 'RSI', 'Average', 'MA40', 'MA80', 'MA160',\n",
        "    #'slopeMA40', 'slopeMA80', 'slopeMA160', 'AverageSlope', 'RSISlope']\n",
        "    X_model = X_stream[attributes]\n",
        "\n",
        "    # Apply the model for predictions\n",
        "    ModelPrediction = loaded_model.predict(X_model)\n",
        "\n",
        "    msg = str(ModelPrediction) # 0 no clear trend, 1 downtrend, 2 uptrend\n",
        "    #------------------------------------\n",
        "    # send email with\n",
        "    server = smtplib.SMTP_SSL('smtp.gmail.com', 465)\n",
        "    server.ehlo()\n",
        "    server.login(gmail_user, gmail_password)\n",
        "    server.sendmail(sent_from, to, msg)\n",
        "    server.close()\n",
        "    #________________________________________________________________________________________________\n",
        "\n",
        "\n",
        "    # EXECUTING ORDERS\n",
        "    accountID = \"1432-432-0000\" #use your account ID\n",
        "    client = API(access_token)\n",
        "\n",
        "    candles = collector.grab(1)\n",
        "#    for candle in candles:\n",
        "#        print(candle.bid.o)\n",
        "#        print(candle.bid.c)\n",
        "\n",
        "    pipdiff = 500*1e-5 #for TP\n",
        "    SLTPRatio = 2 #pipdiff/Ratio gives SL\n",
        "\n",
        "    TPBuy = float(str(candle.bid.o))+pipdiff\n",
        "    SLBuy = float(str(candle.bid.o))-(pipdiff/SLTPRatio)\n",
        "    TPSell = float(str(candle.bid.o))-pipdiff\n",
        "    SLSell = float(str(candle.bid.o))+(pipdiff/SLTPRatio)\n",
        "\n",
        "    #Sell\n",
        "    if ModelPrediction == 1:\n",
        "        mo = MarketOrderRequest(instrument=\"USD_CHF\", units=-1000, takeProfitOnFill=TakeProfitDetails(price=TPSell).data, stopLossOnFill=StopLossDetails(price=SLSell).data)\n",
        "        r = orders.OrderCreate(accountID, data=mo.data)\n",
        "        rv = client.request(r)\n",
        "        print(rv)\n",
        "    #Buy\n",
        "    elif ModelPrediction == 2:\n",
        "        mo = MarketOrderRequest(instrument=\"USD_CHF\", units=1000, takeProfitOnFill=TakeProfitDetails(price=TPBuy).data, stopLossOnFill=StopLossDetails(price=SLBuy).data)\n",
        "        r = orders.OrderCreate(accountID, data=mo.data)\n",
        "        rv = client.request(r)\n",
        "        print(rv)"
      ]
    },
    {
      "cell_type": "markdown",
      "metadata": {
        "id": "O6kSZLbO4yMj"
      },
      "source": [
        "## Executing orders automatically every 4 Hours"
      ]
    },
    {
      "cell_type": "code",
      "execution_count": null,
      "metadata": {
        "id": "OgUDpoFq4yMk"
      },
      "outputs": [],
      "source": [
        "#some_job()\n",
        "\n",
        "###################################################################\n",
        "## Interval time job ##############################################\n",
        "scheduler = BlockingScheduler(job_defaults={'misfire_grace_time': 15*60})\n",
        "scheduler.add_job(some_job, 'cron', day_of_week='mon-fri', hour='*/4', minute=5, jitter=120, timezone='America/New_York')\n",
        "#scheduler.add_job(some_job, 'interval', hours=4)\n",
        "scheduler.start()"
      ]
    },
    {
      "cell_type": "code",
      "execution_count": null,
      "metadata": {
        "id": "nQOkHswM4yMk"
      },
      "outputs": [],
      "source": []
    }
  ],
  "metadata": {
    "colab": {
      "provenance": [],
      "gpuType": "T4",
      "include_colab_link": true
    },
    "kernelspec": {
      "display_name": "Python 3",
      "name": "python3"
    },
    "language_info": {
      "codemirror_mode": {
        "name": "ipython",
        "version": 3
      },
      "file_extension": ".py",
      "mimetype": "text/x-python",
      "name": "python",
      "nbconvert_exporter": "python",
      "pygments_lexer": "ipython3",
      "version": "3.7.3"
    },
    "accelerator": "GPU"
  },
  "nbformat": 4,
  "nbformat_minor": 0
}